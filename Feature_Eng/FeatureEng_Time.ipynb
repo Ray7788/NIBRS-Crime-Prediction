{
 "cells": [
  {
   "cell_type": "code",
   "execution_count": 1,
   "metadata": {},
   "outputs": [],
   "source": [
    "import pandas as pd"
   ]
  },
  {
   "cell_type": "code",
   "execution_count": 3,
   "metadata": {},
   "outputs": [
    {
     "name": "stdout",
     "output_type": "stream",
     "text": [
      "Chicago dataset shape: (1100000, 22)\n",
      "NIBRS dataset shape: (1199713, 3)\n"
     ]
    }
   ],
   "source": [
    "chicago_df = pd.read_csv(\"Chicago_data.csv\")\n",
    "nibrs_df = pd.read_csv(\"NIBRS_timedata.csv\")\n",
    "\n",
    "print(\"Chicago dataset shape:\", chicago_df.shape)\n",
    "print(\"NIBRS dataset shape:\", nibrs_df.shape)"
   ]
  },
  {
   "cell_type": "code",
   "execution_count": 8,
   "metadata": {},
   "outputs": [],
   "source": [
    "chicago_df['date'] = pd.to_datetime(chicago_df['date'], errors='coerce')\n",
    "nibrs_df['date'] = pd.to_datetime(nibrs_df['date'], errors='coerce')"
   ]
  },
  {
   "cell_type": "code",
   "execution_count": 9,
   "metadata": {},
   "outputs": [
    {
     "data": {
      "application/vnd.microsoft.datawrangler.viewer.v0+json": {
       "columns": [
        {
         "name": "index",
         "rawType": "int64",
         "type": "integer"
        },
        {
         "name": "INCIDENT_ID",
         "rawType": "int64",
         "type": "integer"
        },
        {
         "name": "date",
         "rawType": "datetime64[ns]",
         "type": "datetime"
        },
        {
         "name": "arrest",
         "rawType": "bool",
         "type": "boolean"
        }
       ],
       "conversionMethod": "pd.DataFrame",
       "ref": "3d007515-e843-413b-9bdf-7980196171c3",
       "rows": [
        [
         "0",
         "133791805",
         "2020-12-22 23:00:00",
         "False"
        ],
        [
         "1",
         "133787561",
         "2020-10-27 14:00:00",
         "True"
        ],
        [
         "2",
         "133791812",
         "2020-12-20 04:00:00",
         "True"
        ],
        [
         "3",
         "133787564",
         "2020-12-25 15:00:00",
         "True"
        ],
        [
         "4",
         "133791816",
         "2020-09-26 18:00:00",
         "False"
        ]
       ],
       "shape": {
        "columns": 3,
        "rows": 5
       }
      },
      "text/html": [
       "<div>\n",
       "<style scoped>\n",
       "    .dataframe tbody tr th:only-of-type {\n",
       "        vertical-align: middle;\n",
       "    }\n",
       "\n",
       "    .dataframe tbody tr th {\n",
       "        vertical-align: top;\n",
       "    }\n",
       "\n",
       "    .dataframe thead th {\n",
       "        text-align: right;\n",
       "    }\n",
       "</style>\n",
       "<table border=\"1\" class=\"dataframe\">\n",
       "  <thead>\n",
       "    <tr style=\"text-align: right;\">\n",
       "      <th></th>\n",
       "      <th>INCIDENT_ID</th>\n",
       "      <th>date</th>\n",
       "      <th>arrest</th>\n",
       "    </tr>\n",
       "  </thead>\n",
       "  <tbody>\n",
       "    <tr>\n",
       "      <th>0</th>\n",
       "      <td>133791805</td>\n",
       "      <td>2020-12-22 23:00:00</td>\n",
       "      <td>False</td>\n",
       "    </tr>\n",
       "    <tr>\n",
       "      <th>1</th>\n",
       "      <td>133787561</td>\n",
       "      <td>2020-10-27 14:00:00</td>\n",
       "      <td>True</td>\n",
       "    </tr>\n",
       "    <tr>\n",
       "      <th>2</th>\n",
       "      <td>133791812</td>\n",
       "      <td>2020-12-20 04:00:00</td>\n",
       "      <td>True</td>\n",
       "    </tr>\n",
       "    <tr>\n",
       "      <th>3</th>\n",
       "      <td>133787564</td>\n",
       "      <td>2020-12-25 15:00:00</td>\n",
       "      <td>True</td>\n",
       "    </tr>\n",
       "    <tr>\n",
       "      <th>4</th>\n",
       "      <td>133791816</td>\n",
       "      <td>2020-09-26 18:00:00</td>\n",
       "      <td>False</td>\n",
       "    </tr>\n",
       "  </tbody>\n",
       "</table>\n",
       "</div>"
      ],
      "text/plain": [
       "   INCIDENT_ID                date  arrest\n",
       "0    133791805 2020-12-22 23:00:00   False\n",
       "1    133787561 2020-10-27 14:00:00    True\n",
       "2    133791812 2020-12-20 04:00:00    True\n",
       "3    133787564 2020-12-25 15:00:00    True\n",
       "4    133791816 2020-09-26 18:00:00   False"
      ]
     },
     "execution_count": 9,
     "metadata": {},
     "output_type": "execute_result"
    }
   ],
   "source": [
    "nibrs_df.head(5)"
   ]
  },
  {
   "cell_type": "code",
   "execution_count": 10,
   "metadata": {},
   "outputs": [
    {
     "data": {
      "application/vnd.microsoft.datawrangler.viewer.v0+json": {
       "columns": [
        {
         "name": "index",
         "rawType": "int64",
         "type": "integer"
        },
        {
         "name": "id",
         "rawType": "int64",
         "type": "integer"
        },
        {
         "name": "case_number",
         "rawType": "object",
         "type": "string"
        },
        {
         "name": "date",
         "rawType": "datetime64[ns]",
         "type": "datetime"
        },
        {
         "name": "block",
         "rawType": "object",
         "type": "string"
        },
        {
         "name": "iucr",
         "rawType": "object",
         "type": "string"
        },
        {
         "name": "primary_type",
         "rawType": "object",
         "type": "string"
        },
        {
         "name": "description",
         "rawType": "object",
         "type": "string"
        },
        {
         "name": "location_description",
         "rawType": "object",
         "type": "string"
        },
        {
         "name": "arrest",
         "rawType": "bool",
         "type": "boolean"
        },
        {
         "name": "domestic",
         "rawType": "bool",
         "type": "boolean"
        },
        {
         "name": "beat",
         "rawType": "int64",
         "type": "integer"
        },
        {
         "name": "district",
         "rawType": "int64",
         "type": "integer"
        },
        {
         "name": "ward",
         "rawType": "float64",
         "type": "float"
        },
        {
         "name": "community_area",
         "rawType": "float64",
         "type": "float"
        },
        {
         "name": "fbi_code",
         "rawType": "object",
         "type": "string"
        },
        {
         "name": "x_coordinate",
         "rawType": "float64",
         "type": "float"
        },
        {
         "name": "y_coordinate",
         "rawType": "float64",
         "type": "float"
        },
        {
         "name": "year",
         "rawType": "int64",
         "type": "integer"
        },
        {
         "name": "updated_on",
         "rawType": "object",
         "type": "string"
        },
        {
         "name": "latitude",
         "rawType": "float64",
         "type": "float"
        },
        {
         "name": "longitude",
         "rawType": "float64",
         "type": "float"
        },
        {
         "name": "location",
         "rawType": "object",
         "type": "string"
        }
       ],
       "conversionMethod": "pd.DataFrame",
       "ref": "0672faf1-325a-4233-a990-ff0673ac7527",
       "rows": [
        [
         "0",
         "13777896",
         "JJ183487",
         "2025-03-16 03:00:00",
         "040XX N KEYSTONE AVE",
         "0486",
         "BATTERY",
         "DOMESTIC BATTERY SIMPLE",
         "APARTMENT",
         "False",
         "True",
         "1722",
         "17",
         "39.0",
         "16.0",
         "08B",
         "1148566.0",
         "1926623.0",
         "2025",
         "2025-03-19T15:41:08.000",
         "41.954593897",
         "-87.729244692",
         "\n,  \n(41.954593897, -87.729244692)"
        ],
        [
         "1",
         "13776543",
         "JJ182816",
         "2025-03-12 00:00:00",
         "037XX W NORTH AVE",
         "0910",
         "MOTOR VEHICLE THEFT",
         "AUTOMOBILE",
         "STREET",
         "False",
         "False",
         "2535",
         "25",
         "26.0",
         "23.0",
         "07",
         "1151340.0",
         "1910377.0",
         "2025",
         "2025-03-19T15:42:01.000",
         "41.909959416",
         "-87.719474573",
         "\n,  \n(41.909959416, -87.719474573)"
        ],
        [
         "2",
         "13772937",
         "JJ178623",
         "2025-03-12 00:00:00",
         "076XX S EAST END AVE",
         "1153",
         "DECEPTIVE PRACTICE",
         "FINANCIAL IDENTITY THEFT OVER $ 300",
         "RESIDENCE",
         "False",
         "False",
         "414",
         "4",
         "8.0",
         "43.0",
         "11",
         "1188860.0",
         "1854711.0",
         "2025",
         "2025-03-19T15:42:01.000",
         "41.756389436",
         "-87.583428355",
         "\n,  \n(41.756389436, -87.583428355)"
        ],
        [
         "3",
         "13774108",
         "JJ179898",
         "2025-03-12 00:00:00",
         "097XX S MERRILL AVE",
         "0910",
         "MOTOR VEHICLE THEFT",
         "AUTOMOBILE",
         "STREET",
         "False",
         "False",
         "431",
         "4",
         "7.0",
         "51.0",
         "07",
         "1192381.0",
         "1840724.0",
         "2025",
         "2025-03-19T15:42:01.000",
         "41.717922891",
         "-87.570978883",
         "\n,  \n(41.717922891, -87.570978883)"
        ],
        [
         "4",
         "13772980",
         "JJ178262",
         "2025-03-12 00:00:00",
         "095XX S HALSTED ST",
         "0560",
         "ASSAULT",
         "SIMPLE",
         "LIBRARY",
         "False",
         "False",
         "2223",
         "22",
         "21.0",
         "73.0",
         "08A",
         "1172656.0",
         "1841600.0",
         "2025",
         "2025-03-19T15:42:01.000",
         "41.720783347",
         "-87.643197739",
         "\n,  \n(41.720783347, -87.643197739)"
        ]
       ],
       "shape": {
        "columns": 22,
        "rows": 5
       }
      },
      "text/html": [
       "<div>\n",
       "<style scoped>\n",
       "    .dataframe tbody tr th:only-of-type {\n",
       "        vertical-align: middle;\n",
       "    }\n",
       "\n",
       "    .dataframe tbody tr th {\n",
       "        vertical-align: top;\n",
       "    }\n",
       "\n",
       "    .dataframe thead th {\n",
       "        text-align: right;\n",
       "    }\n",
       "</style>\n",
       "<table border=\"1\" class=\"dataframe\">\n",
       "  <thead>\n",
       "    <tr style=\"text-align: right;\">\n",
       "      <th></th>\n",
       "      <th>id</th>\n",
       "      <th>case_number</th>\n",
       "      <th>date</th>\n",
       "      <th>block</th>\n",
       "      <th>iucr</th>\n",
       "      <th>primary_type</th>\n",
       "      <th>description</th>\n",
       "      <th>location_description</th>\n",
       "      <th>arrest</th>\n",
       "      <th>domestic</th>\n",
       "      <th>...</th>\n",
       "      <th>ward</th>\n",
       "      <th>community_area</th>\n",
       "      <th>fbi_code</th>\n",
       "      <th>x_coordinate</th>\n",
       "      <th>y_coordinate</th>\n",
       "      <th>year</th>\n",
       "      <th>updated_on</th>\n",
       "      <th>latitude</th>\n",
       "      <th>longitude</th>\n",
       "      <th>location</th>\n",
       "    </tr>\n",
       "  </thead>\n",
       "  <tbody>\n",
       "    <tr>\n",
       "      <th>0</th>\n",
       "      <td>13777896</td>\n",
       "      <td>JJ183487</td>\n",
       "      <td>2025-03-16 03:00:00</td>\n",
       "      <td>040XX N KEYSTONE AVE</td>\n",
       "      <td>0486</td>\n",
       "      <td>BATTERY</td>\n",
       "      <td>DOMESTIC BATTERY SIMPLE</td>\n",
       "      <td>APARTMENT</td>\n",
       "      <td>False</td>\n",
       "      <td>True</td>\n",
       "      <td>...</td>\n",
       "      <td>39.0</td>\n",
       "      <td>16.0</td>\n",
       "      <td>08B</td>\n",
       "      <td>1148566.0</td>\n",
       "      <td>1926623.0</td>\n",
       "      <td>2025</td>\n",
       "      <td>2025-03-19T15:41:08.000</td>\n",
       "      <td>41.954594</td>\n",
       "      <td>-87.729245</td>\n",
       "      <td>\\n,  \\n(41.954593897, -87.729244692)</td>\n",
       "    </tr>\n",
       "    <tr>\n",
       "      <th>1</th>\n",
       "      <td>13776543</td>\n",
       "      <td>JJ182816</td>\n",
       "      <td>2025-03-12 00:00:00</td>\n",
       "      <td>037XX W NORTH AVE</td>\n",
       "      <td>0910</td>\n",
       "      <td>MOTOR VEHICLE THEFT</td>\n",
       "      <td>AUTOMOBILE</td>\n",
       "      <td>STREET</td>\n",
       "      <td>False</td>\n",
       "      <td>False</td>\n",
       "      <td>...</td>\n",
       "      <td>26.0</td>\n",
       "      <td>23.0</td>\n",
       "      <td>07</td>\n",
       "      <td>1151340.0</td>\n",
       "      <td>1910377.0</td>\n",
       "      <td>2025</td>\n",
       "      <td>2025-03-19T15:42:01.000</td>\n",
       "      <td>41.909959</td>\n",
       "      <td>-87.719475</td>\n",
       "      <td>\\n,  \\n(41.909959416, -87.719474573)</td>\n",
       "    </tr>\n",
       "    <tr>\n",
       "      <th>2</th>\n",
       "      <td>13772937</td>\n",
       "      <td>JJ178623</td>\n",
       "      <td>2025-03-12 00:00:00</td>\n",
       "      <td>076XX S EAST END AVE</td>\n",
       "      <td>1153</td>\n",
       "      <td>DECEPTIVE PRACTICE</td>\n",
       "      <td>FINANCIAL IDENTITY THEFT OVER $ 300</td>\n",
       "      <td>RESIDENCE</td>\n",
       "      <td>False</td>\n",
       "      <td>False</td>\n",
       "      <td>...</td>\n",
       "      <td>8.0</td>\n",
       "      <td>43.0</td>\n",
       "      <td>11</td>\n",
       "      <td>1188860.0</td>\n",
       "      <td>1854711.0</td>\n",
       "      <td>2025</td>\n",
       "      <td>2025-03-19T15:42:01.000</td>\n",
       "      <td>41.756389</td>\n",
       "      <td>-87.583428</td>\n",
       "      <td>\\n,  \\n(41.756389436, -87.583428355)</td>\n",
       "    </tr>\n",
       "    <tr>\n",
       "      <th>3</th>\n",
       "      <td>13774108</td>\n",
       "      <td>JJ179898</td>\n",
       "      <td>2025-03-12 00:00:00</td>\n",
       "      <td>097XX S MERRILL AVE</td>\n",
       "      <td>0910</td>\n",
       "      <td>MOTOR VEHICLE THEFT</td>\n",
       "      <td>AUTOMOBILE</td>\n",
       "      <td>STREET</td>\n",
       "      <td>False</td>\n",
       "      <td>False</td>\n",
       "      <td>...</td>\n",
       "      <td>7.0</td>\n",
       "      <td>51.0</td>\n",
       "      <td>07</td>\n",
       "      <td>1192381.0</td>\n",
       "      <td>1840724.0</td>\n",
       "      <td>2025</td>\n",
       "      <td>2025-03-19T15:42:01.000</td>\n",
       "      <td>41.717923</td>\n",
       "      <td>-87.570979</td>\n",
       "      <td>\\n,  \\n(41.717922891, -87.570978883)</td>\n",
       "    </tr>\n",
       "    <tr>\n",
       "      <th>4</th>\n",
       "      <td>13772980</td>\n",
       "      <td>JJ178262</td>\n",
       "      <td>2025-03-12 00:00:00</td>\n",
       "      <td>095XX S HALSTED ST</td>\n",
       "      <td>0560</td>\n",
       "      <td>ASSAULT</td>\n",
       "      <td>SIMPLE</td>\n",
       "      <td>LIBRARY</td>\n",
       "      <td>False</td>\n",
       "      <td>False</td>\n",
       "      <td>...</td>\n",
       "      <td>21.0</td>\n",
       "      <td>73.0</td>\n",
       "      <td>08A</td>\n",
       "      <td>1172656.0</td>\n",
       "      <td>1841600.0</td>\n",
       "      <td>2025</td>\n",
       "      <td>2025-03-19T15:42:01.000</td>\n",
       "      <td>41.720783</td>\n",
       "      <td>-87.643198</td>\n",
       "      <td>\\n,  \\n(41.720783347, -87.643197739)</td>\n",
       "    </tr>\n",
       "  </tbody>\n",
       "</table>\n",
       "<p>5 rows × 22 columns</p>\n",
       "</div>"
      ],
      "text/plain": [
       "         id case_number                date                 block  iucr  \\\n",
       "0  13777896    JJ183487 2025-03-16 03:00:00  040XX N KEYSTONE AVE  0486   \n",
       "1  13776543    JJ182816 2025-03-12 00:00:00     037XX W NORTH AVE  0910   \n",
       "2  13772937    JJ178623 2025-03-12 00:00:00  076XX S EAST END AVE  1153   \n",
       "3  13774108    JJ179898 2025-03-12 00:00:00   097XX S MERRILL AVE  0910   \n",
       "4  13772980    JJ178262 2025-03-12 00:00:00    095XX S HALSTED ST  0560   \n",
       "\n",
       "          primary_type                          description  \\\n",
       "0              BATTERY              DOMESTIC BATTERY SIMPLE   \n",
       "1  MOTOR VEHICLE THEFT                           AUTOMOBILE   \n",
       "2   DECEPTIVE PRACTICE  FINANCIAL IDENTITY THEFT OVER $ 300   \n",
       "3  MOTOR VEHICLE THEFT                           AUTOMOBILE   \n",
       "4              ASSAULT                               SIMPLE   \n",
       "\n",
       "  location_description  arrest  domestic  ...  ward  community_area  fbi_code  \\\n",
       "0            APARTMENT   False      True  ...  39.0            16.0       08B   \n",
       "1               STREET   False     False  ...  26.0            23.0        07   \n",
       "2            RESIDENCE   False     False  ...   8.0            43.0        11   \n",
       "3               STREET   False     False  ...   7.0            51.0        07   \n",
       "4              LIBRARY   False     False  ...  21.0            73.0       08A   \n",
       "\n",
       "   x_coordinate y_coordinate  year               updated_on   latitude  \\\n",
       "0     1148566.0    1926623.0  2025  2025-03-19T15:41:08.000  41.954594   \n",
       "1     1151340.0    1910377.0  2025  2025-03-19T15:42:01.000  41.909959   \n",
       "2     1188860.0    1854711.0  2025  2025-03-19T15:42:01.000  41.756389   \n",
       "3     1192381.0    1840724.0  2025  2025-03-19T15:42:01.000  41.717923   \n",
       "4     1172656.0    1841600.0  2025  2025-03-19T15:42:01.000  41.720783   \n",
       "\n",
       "   longitude                              location  \n",
       "0 -87.729245  \\n,  \\n(41.954593897, -87.729244692)  \n",
       "1 -87.719475  \\n,  \\n(41.909959416, -87.719474573)  \n",
       "2 -87.583428  \\n,  \\n(41.756389436, -87.583428355)  \n",
       "3 -87.570979  \\n,  \\n(41.717922891, -87.570978883)  \n",
       "4 -87.643198  \\n,  \\n(41.720783347, -87.643197739)  \n",
       "\n",
       "[5 rows x 22 columns]"
      ]
     },
     "execution_count": 10,
     "metadata": {},
     "output_type": "execute_result"
    }
   ],
   "source": [
    "chicago_df.head(5)"
   ]
  },
  {
   "cell_type": "markdown",
   "metadata": {},
   "source": [
    "Extracted components such as:\n",
    "- month – the month of the incident\n",
    "- day – the day in month of the incident\n",
    "- hour – the hour of the incident\n",
    "- weekday – the day of the week\n",
    "- is_weekend – flag for Saturday/Sunday"
   ]
  },
  {
   "cell_type": "code",
   "execution_count": 11,
   "metadata": {},
   "outputs": [],
   "source": [
    "def extractBasicTimeFeature(df):\n",
    "    df['month'] = df['date'].dt.month\n",
    "    df['day'] = df['date'].dt.day\n",
    "    df['hour'] = df['date'].dt.hour\n",
    "    df['weekday'] = df['date'].dt.weekday  # 0=Monday, 6=Sunday\n",
    "    df['is_weekend'] = df['weekday'].isin([5, 6]).astype(int) # if weekend\n",
    "\n",
    "    return df"
   ]
  },
  {
   "cell_type": "code",
   "execution_count": 12,
   "metadata": {},
   "outputs": [
    {
     "name": "stdout",
     "output_type": "stream",
     "text": [
      "Chicago dataset shape: (1100000, 27)\n",
      "NIBRS dataset shape: (1199713, 8)\n"
     ]
    }
   ],
   "source": [
    "chicago_df = extractBasicTimeFeature(chicago_df)\n",
    "nibrs_df = extractBasicTimeFeature(nibrs_df)\n",
    "\n",
    "print(\"Chicago dataset shape:\", chicago_df.shape)\n",
    "print(\"NIBRS dataset shape:\", nibrs_df.shape)"
   ]
  },
  {
   "cell_type": "code",
   "execution_count": 13,
   "metadata": {},
   "outputs": [
    {
     "data": {
      "application/vnd.microsoft.datawrangler.viewer.v0+json": {
       "columns": [
        {
         "name": "index",
         "rawType": "int64",
         "type": "integer"
        },
        {
         "name": "INCIDENT_ID",
         "rawType": "int64",
         "type": "integer"
        },
        {
         "name": "date",
         "rawType": "datetime64[ns]",
         "type": "datetime"
        },
        {
         "name": "arrest",
         "rawType": "bool",
         "type": "boolean"
        },
        {
         "name": "month",
         "rawType": "int32",
         "type": "integer"
        },
        {
         "name": "day",
         "rawType": "int32",
         "type": "integer"
        },
        {
         "name": "hour",
         "rawType": "int32",
         "type": "integer"
        },
        {
         "name": "weekday",
         "rawType": "int32",
         "type": "integer"
        },
        {
         "name": "is_weekend",
         "rawType": "int64",
         "type": "integer"
        }
       ],
       "conversionMethod": "pd.DataFrame",
       "ref": "b5c7517f-1995-4121-9b05-65bbfa4a69bf",
       "rows": [
        [
         "0",
         "133791805",
         "2020-12-22 23:00:00",
         "False",
         "12",
         "22",
         "23",
         "1",
         "0"
        ],
        [
         "1",
         "133787561",
         "2020-10-27 14:00:00",
         "True",
         "10",
         "27",
         "14",
         "1",
         "0"
        ],
        [
         "2",
         "133791812",
         "2020-12-20 04:00:00",
         "True",
         "12",
         "20",
         "4",
         "6",
         "1"
        ],
        [
         "3",
         "133787564",
         "2020-12-25 15:00:00",
         "True",
         "12",
         "25",
         "15",
         "4",
         "0"
        ],
        [
         "4",
         "133791816",
         "2020-09-26 18:00:00",
         "False",
         "9",
         "26",
         "18",
         "5",
         "1"
        ]
       ],
       "shape": {
        "columns": 8,
        "rows": 5
       }
      },
      "text/html": [
       "<div>\n",
       "<style scoped>\n",
       "    .dataframe tbody tr th:only-of-type {\n",
       "        vertical-align: middle;\n",
       "    }\n",
       "\n",
       "    .dataframe tbody tr th {\n",
       "        vertical-align: top;\n",
       "    }\n",
       "\n",
       "    .dataframe thead th {\n",
       "        text-align: right;\n",
       "    }\n",
       "</style>\n",
       "<table border=\"1\" class=\"dataframe\">\n",
       "  <thead>\n",
       "    <tr style=\"text-align: right;\">\n",
       "      <th></th>\n",
       "      <th>INCIDENT_ID</th>\n",
       "      <th>date</th>\n",
       "      <th>arrest</th>\n",
       "      <th>month</th>\n",
       "      <th>day</th>\n",
       "      <th>hour</th>\n",
       "      <th>weekday</th>\n",
       "      <th>is_weekend</th>\n",
       "    </tr>\n",
       "  </thead>\n",
       "  <tbody>\n",
       "    <tr>\n",
       "      <th>0</th>\n",
       "      <td>133791805</td>\n",
       "      <td>2020-12-22 23:00:00</td>\n",
       "      <td>False</td>\n",
       "      <td>12</td>\n",
       "      <td>22</td>\n",
       "      <td>23</td>\n",
       "      <td>1</td>\n",
       "      <td>0</td>\n",
       "    </tr>\n",
       "    <tr>\n",
       "      <th>1</th>\n",
       "      <td>133787561</td>\n",
       "      <td>2020-10-27 14:00:00</td>\n",
       "      <td>True</td>\n",
       "      <td>10</td>\n",
       "      <td>27</td>\n",
       "      <td>14</td>\n",
       "      <td>1</td>\n",
       "      <td>0</td>\n",
       "    </tr>\n",
       "    <tr>\n",
       "      <th>2</th>\n",
       "      <td>133791812</td>\n",
       "      <td>2020-12-20 04:00:00</td>\n",
       "      <td>True</td>\n",
       "      <td>12</td>\n",
       "      <td>20</td>\n",
       "      <td>4</td>\n",
       "      <td>6</td>\n",
       "      <td>1</td>\n",
       "    </tr>\n",
       "    <tr>\n",
       "      <th>3</th>\n",
       "      <td>133787564</td>\n",
       "      <td>2020-12-25 15:00:00</td>\n",
       "      <td>True</td>\n",
       "      <td>12</td>\n",
       "      <td>25</td>\n",
       "      <td>15</td>\n",
       "      <td>4</td>\n",
       "      <td>0</td>\n",
       "    </tr>\n",
       "    <tr>\n",
       "      <th>4</th>\n",
       "      <td>133791816</td>\n",
       "      <td>2020-09-26 18:00:00</td>\n",
       "      <td>False</td>\n",
       "      <td>9</td>\n",
       "      <td>26</td>\n",
       "      <td>18</td>\n",
       "      <td>5</td>\n",
       "      <td>1</td>\n",
       "    </tr>\n",
       "  </tbody>\n",
       "</table>\n",
       "</div>"
      ],
      "text/plain": [
       "   INCIDENT_ID                date  arrest  month  day  hour  weekday  \\\n",
       "0    133791805 2020-12-22 23:00:00   False     12   22    23        1   \n",
       "1    133787561 2020-10-27 14:00:00    True     10   27    14        1   \n",
       "2    133791812 2020-12-20 04:00:00    True     12   20     4        6   \n",
       "3    133787564 2020-12-25 15:00:00    True     12   25    15        4   \n",
       "4    133791816 2020-09-26 18:00:00   False      9   26    18        5   \n",
       "\n",
       "   is_weekend  \n",
       "0           0  \n",
       "1           0  \n",
       "2           1  \n",
       "3           0  \n",
       "4           1  "
      ]
     },
     "execution_count": 13,
     "metadata": {},
     "output_type": "execute_result"
    }
   ],
   "source": [
    "nibrs_df.head(5)"
   ]
  },
  {
   "cell_type": "markdown",
   "metadata": {},
   "source": [
    "Holiday Feature Extraction: Added a binary flag indicating whether the incident occurred on a holiday."
   ]
  },
  {
   "cell_type": "code",
   "execution_count": 15,
   "metadata": {},
   "outputs": [],
   "source": [
    "import holidays\n",
    "\n",
    "def extractHolidayFeature(df):\n",
    "    us_holidays = holidays.US()\n",
    "    df['is_holiday'] = df['date'].dt.date.apply(lambda x: 1 if x in us_holidays else 0)\n",
    "\n",
    "    return df\n"
   ]
  },
  {
   "cell_type": "code",
   "execution_count": 16,
   "metadata": {},
   "outputs": [
    {
     "name": "stdout",
     "output_type": "stream",
     "text": [
      "Chicago dataset shape: (1100000, 28)\n",
      "NIBRS dataset shape: (1199713, 9)\n"
     ]
    },
    {
     "data": {
      "application/vnd.microsoft.datawrangler.viewer.v0+json": {
       "columns": [
        {
         "name": "index",
         "rawType": "int64",
         "type": "integer"
        },
        {
         "name": "INCIDENT_ID",
         "rawType": "int64",
         "type": "integer"
        },
        {
         "name": "date",
         "rawType": "datetime64[ns]",
         "type": "datetime"
        },
        {
         "name": "arrest",
         "rawType": "bool",
         "type": "boolean"
        },
        {
         "name": "month",
         "rawType": "int32",
         "type": "integer"
        },
        {
         "name": "day",
         "rawType": "int32",
         "type": "integer"
        },
        {
         "name": "hour",
         "rawType": "int32",
         "type": "integer"
        },
        {
         "name": "weekday",
         "rawType": "int32",
         "type": "integer"
        },
        {
         "name": "is_weekend",
         "rawType": "int64",
         "type": "integer"
        },
        {
         "name": "is_holiday",
         "rawType": "int64",
         "type": "integer"
        }
       ],
       "conversionMethod": "pd.DataFrame",
       "ref": "2abadde2-4ea7-411c-9831-24c4d9061a8a",
       "rows": [
        [
         "0",
         "133791805",
         "2020-12-22 23:00:00",
         "False",
         "12",
         "22",
         "23",
         "1",
         "0",
         "0"
        ],
        [
         "1",
         "133787561",
         "2020-10-27 14:00:00",
         "True",
         "10",
         "27",
         "14",
         "1",
         "0",
         "0"
        ],
        [
         "2",
         "133791812",
         "2020-12-20 04:00:00",
         "True",
         "12",
         "20",
         "4",
         "6",
         "1",
         "0"
        ],
        [
         "3",
         "133787564",
         "2020-12-25 15:00:00",
         "True",
         "12",
         "25",
         "15",
         "4",
         "0",
         "1"
        ],
        [
         "4",
         "133791816",
         "2020-09-26 18:00:00",
         "False",
         "9",
         "26",
         "18",
         "5",
         "1",
         "0"
        ]
       ],
       "shape": {
        "columns": 9,
        "rows": 5
       }
      },
      "text/html": [
       "<div>\n",
       "<style scoped>\n",
       "    .dataframe tbody tr th:only-of-type {\n",
       "        vertical-align: middle;\n",
       "    }\n",
       "\n",
       "    .dataframe tbody tr th {\n",
       "        vertical-align: top;\n",
       "    }\n",
       "\n",
       "    .dataframe thead th {\n",
       "        text-align: right;\n",
       "    }\n",
       "</style>\n",
       "<table border=\"1\" class=\"dataframe\">\n",
       "  <thead>\n",
       "    <tr style=\"text-align: right;\">\n",
       "      <th></th>\n",
       "      <th>INCIDENT_ID</th>\n",
       "      <th>date</th>\n",
       "      <th>arrest</th>\n",
       "      <th>month</th>\n",
       "      <th>day</th>\n",
       "      <th>hour</th>\n",
       "      <th>weekday</th>\n",
       "      <th>is_weekend</th>\n",
       "      <th>is_holiday</th>\n",
       "    </tr>\n",
       "  </thead>\n",
       "  <tbody>\n",
       "    <tr>\n",
       "      <th>0</th>\n",
       "      <td>133791805</td>\n",
       "      <td>2020-12-22 23:00:00</td>\n",
       "      <td>False</td>\n",
       "      <td>12</td>\n",
       "      <td>22</td>\n",
       "      <td>23</td>\n",
       "      <td>1</td>\n",
       "      <td>0</td>\n",
       "      <td>0</td>\n",
       "    </tr>\n",
       "    <tr>\n",
       "      <th>1</th>\n",
       "      <td>133787561</td>\n",
       "      <td>2020-10-27 14:00:00</td>\n",
       "      <td>True</td>\n",
       "      <td>10</td>\n",
       "      <td>27</td>\n",
       "      <td>14</td>\n",
       "      <td>1</td>\n",
       "      <td>0</td>\n",
       "      <td>0</td>\n",
       "    </tr>\n",
       "    <tr>\n",
       "      <th>2</th>\n",
       "      <td>133791812</td>\n",
       "      <td>2020-12-20 04:00:00</td>\n",
       "      <td>True</td>\n",
       "      <td>12</td>\n",
       "      <td>20</td>\n",
       "      <td>4</td>\n",
       "      <td>6</td>\n",
       "      <td>1</td>\n",
       "      <td>0</td>\n",
       "    </tr>\n",
       "    <tr>\n",
       "      <th>3</th>\n",
       "      <td>133787564</td>\n",
       "      <td>2020-12-25 15:00:00</td>\n",
       "      <td>True</td>\n",
       "      <td>12</td>\n",
       "      <td>25</td>\n",
       "      <td>15</td>\n",
       "      <td>4</td>\n",
       "      <td>0</td>\n",
       "      <td>1</td>\n",
       "    </tr>\n",
       "    <tr>\n",
       "      <th>4</th>\n",
       "      <td>133791816</td>\n",
       "      <td>2020-09-26 18:00:00</td>\n",
       "      <td>False</td>\n",
       "      <td>9</td>\n",
       "      <td>26</td>\n",
       "      <td>18</td>\n",
       "      <td>5</td>\n",
       "      <td>1</td>\n",
       "      <td>0</td>\n",
       "    </tr>\n",
       "  </tbody>\n",
       "</table>\n",
       "</div>"
      ],
      "text/plain": [
       "   INCIDENT_ID                date  arrest  month  day  hour  weekday  \\\n",
       "0    133791805 2020-12-22 23:00:00   False     12   22    23        1   \n",
       "1    133787561 2020-10-27 14:00:00    True     10   27    14        1   \n",
       "2    133791812 2020-12-20 04:00:00    True     12   20     4        6   \n",
       "3    133787564 2020-12-25 15:00:00    True     12   25    15        4   \n",
       "4    133791816 2020-09-26 18:00:00   False      9   26    18        5   \n",
       "\n",
       "   is_weekend  is_holiday  \n",
       "0           0           0  \n",
       "1           0           0  \n",
       "2           1           0  \n",
       "3           0           1  \n",
       "4           1           0  "
      ]
     },
     "execution_count": 16,
     "metadata": {},
     "output_type": "execute_result"
    }
   ],
   "source": [
    "chicago_df = extractHolidayFeature(chicago_df)\n",
    "nibrs_df = extractHolidayFeature(nibrs_df)\n",
    "\n",
    "print(\"Chicago dataset shape:\", chicago_df.shape)\n",
    "print(\"NIBRS dataset shape:\", nibrs_df.shape)\n",
    "\n",
    "nibrs_df.head(5)"
   ]
  },
  {
   "cell_type": "markdown",
   "metadata": {},
   "source": [
    "Time Since Last Crime (time_since_last_crime): For each incident, computed the time difference (in hours) from the previous incident."
   ]
  },
  {
   "cell_type": "code",
   "execution_count": 20,
   "metadata": {},
   "outputs": [],
   "source": [
    "# Combine this feature with spatial feature maybe useful for hot crime analysis\n",
    "def extractTimeIntervalWithLastCrime(df):\n",
    "    df = df.sort_values(by='date')\n",
    "    df['time_since_last_crime'] = df['date'].diff().dt.total_seconds() / 3600 # per Hour\n",
    "    return df\n"
   ]
  },
  {
   "cell_type": "code",
   "execution_count": 21,
   "metadata": {},
   "outputs": [
    {
     "name": "stdout",
     "output_type": "stream",
     "text": [
      "Chicago dataset shape: (1100000, 29)\n",
      "NIBRS dataset shape: (1199713, 10)\n"
     ]
    },
    {
     "data": {
      "application/vnd.microsoft.datawrangler.viewer.v0+json": {
       "columns": [
        {
         "name": "index",
         "rawType": "int64",
         "type": "integer"
        },
        {
         "name": "INCIDENT_ID",
         "rawType": "int64",
         "type": "integer"
        },
        {
         "name": "date",
         "rawType": "datetime64[ns]",
         "type": "datetime"
        },
        {
         "name": "arrest",
         "rawType": "bool",
         "type": "boolean"
        },
        {
         "name": "month",
         "rawType": "int32",
         "type": "integer"
        },
        {
         "name": "day",
         "rawType": "int32",
         "type": "integer"
        },
        {
         "name": "hour",
         "rawType": "int32",
         "type": "integer"
        },
        {
         "name": "weekday",
         "rawType": "int32",
         "type": "integer"
        },
        {
         "name": "is_weekend",
         "rawType": "int64",
         "type": "integer"
        },
        {
         "name": "is_holiday",
         "rawType": "int64",
         "type": "integer"
        },
        {
         "name": "time_since_last_crime",
         "rawType": "float64",
         "type": "float"
        }
       ],
       "conversionMethod": "pd.DataFrame",
       "ref": "633950db-fa9e-4285-bf44-a5e61846f76c",
       "rows": [
        [
         "10402",
         "135341753",
         "2020-01-01 00:00:00",
         "False",
         "1",
         "1",
         "0",
         "2",
         "0",
         "1",
         null
        ],
        [
         "5631",
         "133788609",
         "2020-01-01 00:00:00",
         "False",
         "1",
         "1",
         "0",
         "2",
         "0",
         "1",
         "0.0"
        ],
        [
         "1706",
         "122507148",
         "2020-01-01 00:00:00",
         "False",
         "1",
         "1",
         "0",
         "2",
         "0",
         "1",
         "0.0"
        ],
        [
         "10186",
         "122506302",
         "2020-01-01 00:00:00",
         "False",
         "1",
         "1",
         "0",
         "2",
         "0",
         "1",
         "0.0"
        ],
        [
         "5413",
         "133787212",
         "2020-01-01 00:00:00",
         "False",
         "1",
         "1",
         "0",
         "2",
         "0",
         "1",
         "0.0"
        ]
       ],
       "shape": {
        "columns": 10,
        "rows": 5
       }
      },
      "text/html": [
       "<div>\n",
       "<style scoped>\n",
       "    .dataframe tbody tr th:only-of-type {\n",
       "        vertical-align: middle;\n",
       "    }\n",
       "\n",
       "    .dataframe tbody tr th {\n",
       "        vertical-align: top;\n",
       "    }\n",
       "\n",
       "    .dataframe thead th {\n",
       "        text-align: right;\n",
       "    }\n",
       "</style>\n",
       "<table border=\"1\" class=\"dataframe\">\n",
       "  <thead>\n",
       "    <tr style=\"text-align: right;\">\n",
       "      <th></th>\n",
       "      <th>INCIDENT_ID</th>\n",
       "      <th>date</th>\n",
       "      <th>arrest</th>\n",
       "      <th>month</th>\n",
       "      <th>day</th>\n",
       "      <th>hour</th>\n",
       "      <th>weekday</th>\n",
       "      <th>is_weekend</th>\n",
       "      <th>is_holiday</th>\n",
       "      <th>time_since_last_crime</th>\n",
       "    </tr>\n",
       "  </thead>\n",
       "  <tbody>\n",
       "    <tr>\n",
       "      <th>10402</th>\n",
       "      <td>135341753</td>\n",
       "      <td>2020-01-01</td>\n",
       "      <td>False</td>\n",
       "      <td>1</td>\n",
       "      <td>1</td>\n",
       "      <td>0</td>\n",
       "      <td>2</td>\n",
       "      <td>0</td>\n",
       "      <td>1</td>\n",
       "      <td>NaN</td>\n",
       "    </tr>\n",
       "    <tr>\n",
       "      <th>5631</th>\n",
       "      <td>133788609</td>\n",
       "      <td>2020-01-01</td>\n",
       "      <td>False</td>\n",
       "      <td>1</td>\n",
       "      <td>1</td>\n",
       "      <td>0</td>\n",
       "      <td>2</td>\n",
       "      <td>0</td>\n",
       "      <td>1</td>\n",
       "      <td>0.0</td>\n",
       "    </tr>\n",
       "    <tr>\n",
       "      <th>1706</th>\n",
       "      <td>122507148</td>\n",
       "      <td>2020-01-01</td>\n",
       "      <td>False</td>\n",
       "      <td>1</td>\n",
       "      <td>1</td>\n",
       "      <td>0</td>\n",
       "      <td>2</td>\n",
       "      <td>0</td>\n",
       "      <td>1</td>\n",
       "      <td>0.0</td>\n",
       "    </tr>\n",
       "    <tr>\n",
       "      <th>10186</th>\n",
       "      <td>122506302</td>\n",
       "      <td>2020-01-01</td>\n",
       "      <td>False</td>\n",
       "      <td>1</td>\n",
       "      <td>1</td>\n",
       "      <td>0</td>\n",
       "      <td>2</td>\n",
       "      <td>0</td>\n",
       "      <td>1</td>\n",
       "      <td>0.0</td>\n",
       "    </tr>\n",
       "    <tr>\n",
       "      <th>5413</th>\n",
       "      <td>133787212</td>\n",
       "      <td>2020-01-01</td>\n",
       "      <td>False</td>\n",
       "      <td>1</td>\n",
       "      <td>1</td>\n",
       "      <td>0</td>\n",
       "      <td>2</td>\n",
       "      <td>0</td>\n",
       "      <td>1</td>\n",
       "      <td>0.0</td>\n",
       "    </tr>\n",
       "  </tbody>\n",
       "</table>\n",
       "</div>"
      ],
      "text/plain": [
       "       INCIDENT_ID       date  arrest  month  day  hour  weekday  is_weekend  \\\n",
       "10402    135341753 2020-01-01   False      1    1     0        2           0   \n",
       "5631     133788609 2020-01-01   False      1    1     0        2           0   \n",
       "1706     122507148 2020-01-01   False      1    1     0        2           0   \n",
       "10186    122506302 2020-01-01   False      1    1     0        2           0   \n",
       "5413     133787212 2020-01-01   False      1    1     0        2           0   \n",
       "\n",
       "       is_holiday  time_since_last_crime  \n",
       "10402           1                    NaN  \n",
       "5631            1                    0.0  \n",
       "1706            1                    0.0  \n",
       "10186           1                    0.0  \n",
       "5413            1                    0.0  "
      ]
     },
     "execution_count": 21,
     "metadata": {},
     "output_type": "execute_result"
    }
   ],
   "source": [
    "chicago_df = extractTimeIntervalWithLastCrime(chicago_df)\n",
    "nibrs_df = extractTimeIntervalWithLastCrime(nibrs_df)\n",
    "\n",
    "print(\"Chicago dataset shape:\", chicago_df.shape)\n",
    "print(\"NIBRS dataset shape:\", nibrs_df.shape)\n",
    "\n",
    "nibrs_df.head(5)"
   ]
  }
 ],
 "metadata": {
  "kernelspec": {
   "display_name": "myenv",
   "language": "python",
   "name": "python3"
  },
  "language_info": {
   "codemirror_mode": {
    "name": "ipython",
    "version": 3
   },
   "file_extension": ".py",
   "mimetype": "text/x-python",
   "name": "python",
   "nbconvert_exporter": "python",
   "pygments_lexer": "ipython3",
   "version": "3.8.20"
  }
 },
 "nbformat": 4,
 "nbformat_minor": 2
}
