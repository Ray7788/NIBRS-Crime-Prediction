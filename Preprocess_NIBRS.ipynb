{
 "cells": [
  {
   "cell_type": "code",
   "execution_count": 1,
   "metadata": {},
   "outputs": [],
   "source": [
    "import pandas as pd\n",
    "import os"
   ]
  },
  {
   "cell_type": "code",
   "execution_count": 3,
   "metadata": {},
   "outputs": [
    {
     "name": "stdout",
     "output_type": "stream",
     "text": [
      "Processing: Data/IL-2020/NIBRS_ARRESTEE.csv\n",
      "File: Data/IL-2020/NIBRS_ARRESTEE.csv's col names have been transferred to UpperCase!\n",
      "Processing: Data/IL-2021/NIBRS_ARRESTEE.csv\n",
      "File: Data/IL-2021/NIBRS_ARRESTEE.csv's col names have been transferred to UpperCase!\n",
      "Processing: Data/IL-2022/NIBRS_ARRESTEE.csv\n",
      "File: Data/IL-2022/NIBRS_ARRESTEE.csv's col names have been transferred to UpperCase!\n",
      "Processing: Data/IL-2023/NIBRS_ARRESTEE.csv\n",
      "File: Data/IL-2023/NIBRS_ARRESTEE.csv's col names have been transferred to UpperCase!\n",
      "All Done!\n"
     ]
    }
   ],
   "source": [
    "years = ['2020', '2021', '2022', '2023']\n",
    "base_path = \"Data\"\n",
    "file_name = \"NIBRS_ARRESTEE.csv\"\n",
    "# file_name = \"NIBRS_incident.csv\"\n",
    "\n",
    "\n",
    "for year in years:\n",
    "    folder_path = os.path.join(base_path, f\"IL-{year}\")\n",
    "    file_path = os.path.join(folder_path, file_name)\n",
    "\n",
    "    if not os.path.exists(file_path):\n",
    "        print(f\"File: {file_path} does not exist!\")\n",
    "        continue\n",
    "    \n",
    "    print(f\"Processing: {file_path}\")\n",
    "    df = pd.read_csv(file_path)\n",
    "    \n",
    "    # Transfer Column Name To UpperCase\n",
    "    new_columns = [col.upper() for col in df.columns]\n",
    "\n",
    "    df.columns = new_columns\n",
    "    \n",
    "    # Rewrite Origin File\n",
    "    df.to_csv(file_path, index=False)\n",
    "    print(f\"File: {file_path}'s col names have been transferred to UpperCase!\")\n",
    "\n",
    "print(\"All Done!\")"
   ]
  }
 ],
 "metadata": {
  "kernelspec": {
   "display_name": "myenv",
   "language": "python",
   "name": "python3"
  },
  "language_info": {
   "codemirror_mode": {
    "name": "ipython",
    "version": 3
   },
   "file_extension": ".py",
   "mimetype": "text/x-python",
   "name": "python",
   "nbconvert_exporter": "python",
   "pygments_lexer": "ipython3",
   "version": "3.8.20"
  }
 },
 "nbformat": 4,
 "nbformat_minor": 2
}
