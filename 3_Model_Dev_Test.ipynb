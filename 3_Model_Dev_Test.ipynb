{
  "cells": [
    {
      "cell_type": "markdown",
      "metadata": {
        "id": "aUip5txUFuhE"
      },
      "source": [
        "# Model Development"
      ]
    },
    {
      "cell_type": "code",
      "execution_count": 4,
      "metadata": {
        "colab": {
          "base_uri": "https://localhost:8080/"
        },
        "id": "4igvSOcWFuhG",
        "outputId": "879ad3a1-7f70-47af-d5c3-2120ba60b556"
      },
      "outputs": [],
      "source": [
        "import pandas as pd\n",
        "from sklearn.model_selection import train_test_split\n",
        "from catboost import CatBoostClassifier\n",
        "from sklearn.model_selection import RandomizedSearchCV\n",
        "from sklearn.model_selection import train_test_split\n",
        "from imblearn.over_sampling import SMOTE\n",
        "from sklearn.ensemble import RandomForestClassifier\n",
        "from sklearn.preprocessing import StandardScaler\n",
        "from sklearn.preprocessing import LabelEncoder\n",
        "from sklearn.metrics import classification_report, accuracy_score, f1_score, precision_score, recall_score, confusion_matrix, precision_recall_curve\n",
        "from sklearn.linear_model import SGDClassifier, Perceptron\n",
        "from sklearn.preprocessing import StandardScaler, OneHotEncoder\n",
        "from sklearn.compose import ColumnTransformer\n",
        "from sklearn.pipeline import Pipeline\n",
        "import numpy as np\n",
        "import matplotlib.pyplot as plt\n",
        "import seaborn as sns"
      ]
    },
    {
      "cell_type": "markdown",
      "metadata": {
        "id": "F5_Z13owFuhI"
      },
      "source": [
        "## Data Preparation"
      ]
    },
    {
      "cell_type": "code",
      "execution_count": 5,
      "metadata": {
        "colab": {
          "base_uri": "https://localhost:8080/"
        },
        "id": "GeRs5V1YFuhJ",
        "outputId": "88232ed9-f580-4383-fd41-0e3f7db201d6"
      },
      "outputs": [
        {
          "name": "stderr",
          "output_type": "stream",
          "text": [
            "/var/folders/gv/4cnh8blj2mgcj1tbxqms_3yw0000gn/T/ipykernel_34845/3116578832.py:8: DtypeWarning: Columns (8,9,10,12,15) have mixed types. Specify dtype option on import or set low_memory=False.\n",
            "  NIBRS_df = pd.read_csv(NIBRS_filepath)\n"
          ]
        }
      ],
      "source": [
        "# Replace with the path to Chicago dataset\n",
        "chicago_filepath = \"Chicago_after_FE.csv\"\n",
        "# Replace with the path to NIBRS test dataset\n",
        "NIBRS_filepath = \"NIBRS_after_FE.csv\"\n",
        "\n",
        "# Read the dataset\n",
        "chicago_df = pd.read_csv(chicago_filepath)\n",
        "NIBRS_df = pd.read_csv(NIBRS_filepath)"
      ]
    },
    {
      "cell_type": "code",
      "execution_count": 6,
      "metadata": {
        "colab": {
          "base_uri": "https://localhost:8080/"
        },
        "id": "XSuBabm8FuhJ",
        "outputId": "406a60bd-b37f-4b98-a484-524e444ad8a2"
      },
      "outputs": [
        {
          "name": "stdout",
          "output_type": "stream",
          "text": [
            "Chicago Dataset Date Range: 2020-07-31 17:29:00 to 2025-03-16 03:00:00\n",
            "NIBRS Dataset Date Range: 2023-01-01 00:00:00 to 2023-12-31 23:00:00\n"
          ]
        }
      ],
      "source": [
        "# Check Date Range\n",
        "c_min_date = chicago_df['date'].min()\n",
        "c_max_date = chicago_df['date'].max()\n",
        "n_min_date = NIBRS_df['date'].min()\n",
        "n_max_date = NIBRS_df['date'].max()\n",
        "print(f\"Chicago Dataset Date Range: {c_min_date} to {c_max_date}\")\n",
        "print(f\"NIBRS Dataset Date Range: {n_min_date} to {n_max_date}\")"
      ]
    },
    {
      "cell_type": "code",
      "execution_count": 7,
      "metadata": {
        "colab": {
          "base_uri": "https://localhost:8080/"
        },
        "id": "igizqeA6FuhK",
        "outputId": "f62ddb83-e5a5-40ef-f5f8-c396147f907a"
      },
      "outputs": [
        {
          "name": "stdout",
          "output_type": "stream",
          "text": [
            "Chicago Dataset Date Range After Filtering: 2021-01-01 00:00:00, 2022-12-31 00:00:00\n"
          ]
        }
      ],
      "source": [
        "chicago_df['date'] = pd.to_datetime(chicago_df['date'])\n",
        "# Choose data from 2021-01-01 to 2022-12-31 for model training and initial testing\n",
        "filtered_df = chicago_df[(chicago_df['date'] >= '2021-01-01') & (chicago_df['date'] <= '2022-12-31')]\n",
        "\n",
        "print(f\"Chicago Dataset Date Range After Filtering: {filtered_df['date'].min()}, {filtered_df['date'].max()}\")"
      ]
    },
    {
      "cell_type": "code",
      "execution_count": 8,
      "metadata": {
        "colab": {
          "base_uri": "https://localhost:8080/"
        },
        "id": "HWp2KKZTFuhL",
        "outputId": "542965a3-d0f7-4d1b-8d4b-da81682562fc"
      },
      "outputs": [
        {
          "name": "stdout",
          "output_type": "stream",
          "text": [
            "Chicago dataset shape: (448489, 32)\n"
          ]
        }
      ],
      "source": [
        "chicago_df = filtered_df\n",
        "print(\"Chicago dataset shape:\", chicago_df.shape)"
      ]
    },
    {
      "cell_type": "code",
      "execution_count": 9,
      "metadata": {
        "colab": {
          "base_uri": "https://localhost:8080/"
        },
        "id": "8UQ483KKFuhL",
        "outputId": "75b77228-5945-412e-a47f-c02f6c7ec578"
      },
      "outputs": [
        {
          "data": {
            "text/plain": [
              "(562976, 37)"
            ]
          },
          "execution_count": 9,
          "metadata": {},
          "output_type": "execute_result"
        }
      ],
      "source": [
        "NIBRS_df.shape"
      ]
    },
    {
      "cell_type": "code",
      "execution_count": 10,
      "metadata": {
        "id": "5bdEYhfwFuhL"
      },
      "outputs": [],
      "source": [
        "feature_columns = [\n",
        "    'arrest', 'UNIFIED_LOCATION_CODE', 'month', 'day', 'hour', 'weekday',\n",
        "    'is_weekend', 'is_holiday', 'crime_against', 'offense_category_name'\n",
        "]\n",
        "\n",
        "chicago_df = chicago_df[feature_columns]"
      ]
    },
    {
      "cell_type": "code",
      "execution_count": 11,
      "metadata": {
        "colab": {
          "base_uri": "https://localhost:8080/"
        },
        "id": "390q1JO3FuhM",
        "outputId": "e4ecb0de-6f27-4f51-f5f8-2678bfc71c69"
      },
      "outputs": [
        {
          "name": "stdout",
          "output_type": "stream",
          "text": [
            "arrest                   0\n",
            "UNIFIED_LOCATION_CODE    0\n",
            "month                    0\n",
            "day                      0\n",
            "hour                     0\n",
            "weekday                  0\n",
            "is_weekend               0\n",
            "is_holiday               0\n",
            "crime_against            0\n",
            "offense_category_name    0\n",
            "dtype: int64\n",
            "arrest                   0\n",
            "UNIFIED_LOCATION_CODE    0\n",
            "month                    0\n",
            "day                      0\n",
            "hour                     0\n",
            "weekday                  0\n",
            "is_weekend               0\n",
            "is_holiday               0\n",
            "crime_against            0\n",
            "offense_category_name    0\n",
            "dtype: int64\n"
          ]
        }
      ],
      "source": [
        "# handle missing value\n",
        "print(chicago_df.isnull().sum())\n",
        "chicago_df = chicago_df.dropna()\n",
        "print(chicago_df.isnull().sum())"
      ]
    },
    {
      "cell_type": "code",
      "execution_count": 12,
      "metadata": {
        "id": "pFx_DI_BFuhM"
      },
      "outputs": [],
      "source": [
        "X = chicago_df.drop(columns=['arrest'])\n",
        "y = chicago_df['arrest']\n",
        "\n",
        "# split train and test\n",
        "X_train, X_test, y_train, y_test = train_test_split(X, y, test_size=0.2, random_state=42, stratify=y)"
      ]
    },
    {
      "cell_type": "code",
      "execution_count": 13,
      "metadata": {},
      "outputs": [
        {
          "name": "stdout",
          "output_type": "stream",
          "text": [
            "<class 'pandas.core.series.Series'> 89698\n"
          ]
        }
      ],
      "source": [
        "print(type(y_test), len(y_test))"
      ]
    },
    {
      "cell_type": "code",
      "execution_count": 14,
      "metadata": {
        "colab": {
          "base_uri": "https://localhost:8080/"
        },
        "id": "Ij5lfIOeFuhM",
        "outputId": "1711dcfe-b1eb-4507-a552-87fc4150f6de"
      },
      "outputs": [
        {
          "data": {
            "text/plain": [
              "0"
            ]
          },
          "execution_count": 14,
          "metadata": {},
          "output_type": "execute_result"
        }
      ],
      "source": [
        "y_test.isna().sum()"
      ]
    },
    {
      "cell_type": "code",
      "execution_count": 15,
      "metadata": {
        "id": "Smtngt88Mz-B"
      },
      "outputs": [],
      "source": [
        "# this for record metric of different model\n",
        "report_dfs = {}\n",
        "combined_report_df = pd.DataFrame()"
      ]
    },
    {
      "cell_type": "code",
      "execution_count": 16,
      "metadata": {},
      "outputs": [],
      "source": [
        "# this for recording prediction results of different models\n",
        "chicago_predictions = pd.DataFrame(columns=[\"y_true\", \"CatBoost\", \"RandomForest\", \"LogisticRegression\"])\n",
        "nibrs_predictions = pd.DataFrame(columns=[\"y_true\", \"CatBoost\", \"RandomForest\", \"LogisticRegression\"])"
      ]
    },
    {
      "cell_type": "code",
      "execution_count": 17,
      "metadata": {},
      "outputs": [],
      "source": [
        "chicago_predictions = pd.concat([X_test, chicago_predictions], axis=1)"
      ]
    },
    {
      "cell_type": "markdown",
      "metadata": {
        "id": "Ymn1Y3W_FuhN"
      },
      "source": [
        "## Model Training"
      ]
    },
    {
      "cell_type": "markdown",
      "metadata": {
        "id": "8VNJu5HlFuhN"
      },
      "source": [
        "## CatBoost Model:\n",
        "- Handles categorical data well: CatBoost is great at working with categorical features **without needing much preprocessing**, which saves time and effort.\n",
        "- Reduces overfitting: It has built-in tools to prevent overfitting, making predictions more reliable, especially with complex datasets like crime data.\n",
        "- Strong performance: It often outperforms other models like decision trees or random forests, giving you accurate arrest predictions."
      ]
    },
    {
      "cell_type": "code",
      "execution_count": 18,
      "metadata": {
        "colab": {
          "base_uri": "https://localhost:8080/",
          "height": 178
        },
        "id": "EWGvim2bFuhN",
        "outputId": "a1627532-b296-412d-fd30-bae5c611d8eb"
      },
      "outputs": [
        {
          "data": {
            "text/plain": [
              "arrest\n",
              "False    315072\n",
              "True      43719\n",
              "Name: count, dtype: int64"
            ]
          },
          "execution_count": 18,
          "metadata": {},
          "output_type": "execute_result"
        }
      ],
      "source": [
        "y_train.value_counts()"
      ]
    },
    {
      "cell_type": "markdown",
      "metadata": {
        "id": "Qw_5Y2cmFuhN"
      },
      "source": [
        "For `arrest` feature, it is extremely imbalanced with highly unarrested proportion.\n",
        "\n",
        "`Catboost` can handle this with set `scale_pos_weight`  = # of False/ # of True."
      ]
    },
    {
      "cell_type": "code",
      "execution_count": 19,
      "metadata": {
        "colab": {
          "base_uri": "https://localhost:8080/"
        },
        "id": "Qkc3-Yg2FuhN",
        "outputId": "d46a7fd8-0ca9-4a7e-aa4c-7ac21b674845"
      },
      "outputs": [
        {
          "data": {
            "text/plain": [
              "7"
            ]
          },
          "execution_count": 19,
          "metadata": {},
          "output_type": "execute_result"
        }
      ],
      "source": [
        "arrest_weight = int(y_train.value_counts()[0] / y_train.value_counts()[1])\n",
        "arrest_weight"
      ]
    },
    {
      "cell_type": "code",
      "execution_count": 20,
      "metadata": {
        "colab": {
          "base_uri": "https://localhost:8080/"
        },
        "id": "iZfXT90EFuhN",
        "outputId": "4b6e8535-412e-4d97-c247-0176a31edb36"
      },
      "outputs": [
        {
          "name": "stdout",
          "output_type": "stream",
          "text": [
            "0:\tlearn: 0.6910929\ttest: 0.6915118\tbest: 0.6915118 (0)\ttotal: 163ms\tremaining: 2m 42s\n",
            "100:\tlearn: 0.7425227\ttest: 0.7418607\tbest: 0.7432042 (52)\ttotal: 7.36s\tremaining: 1m 5s\n",
            "Stopped by overfitting detector  (50 iterations wait)\n",
            "\n",
            "bestTest = 0.7432041643\n",
            "bestIteration = 52\n",
            "\n",
            "Shrink model to first 53 iterations.\n",
            "Chicago Classification Report:\n",
            "               precision    recall  f1-score   support\n",
            "\n",
            "       False       0.95      0.81      0.88     78768\n",
            "        True       0.34      0.71      0.46     10930\n",
            "\n",
            "    accuracy                           0.80     89698\n",
            "   macro avg       0.65      0.76      0.67     89698\n",
            "weighted avg       0.88      0.80      0.83     89698\n",
            "\n"
          ]
        }
      ],
      "source": [
        "# indicate categorical features\n",
        "cat_features = [i for i, col in enumerate(X_train.columns) if X_train[col].dtype == 'object']\n",
        "\n",
        "# Initialize CatBoostClassifier\n",
        "model = CatBoostClassifier(\n",
        "    iterations=1000,\n",
        "    learning_rate=0.05,\n",
        "    depth=6,\n",
        "    cat_features=cat_features,\n",
        "    scale_pos_weight=arrest_weight,  # improve the importance of Arrest=True\n",
        "    early_stopping_rounds=50,\n",
        "    eval_metric='F1',  # better evaluation metric for imbalanced data\n",
        "    verbose=100,\n",
        "    random_state=42\n",
        ")\n",
        "# Train the model\n",
        "model.fit(X_train, y_train, cat_features=cat_features, eval_set=(X_test, y_test), use_best_model=True)\n",
        "# Predict\n",
        "y_pred = model.predict(X_test)\n",
        "\n",
        "# Evaluate the model\n",
        "print(\"Chicago Classification Report:\\n\", classification_report(y_test, y_pred))\n",
        "\n",
        "\n",
        "report_dict = classification_report(y_test, y_pred, output_dict=True)\n",
        "report_df = pd.DataFrame(report_dict).transpose()\n",
        "\n",
        "# Add to dictionary\n",
        "report_dfs['Chicago - CatBoost'] = report_df\n",
        "\n",
        "# Add model name as column for stacking\n",
        "report_df['model'] = 'Chicago - CatBoost'\n",
        "combined_report_df = pd.concat([combined_report_df, report_df])"
      ]
    },
    {
      "cell_type": "code",
      "execution_count": 21,
      "metadata": {},
      "outputs": [],
      "source": [
        "chicago_predictions.loc[:, \"y_true\"] = y_test\n",
        "chicago_predictions.loc[:, \"CatBoost\"] = y_pred"
      ]
    },
    {
      "cell_type": "markdown",
      "metadata": {
        "id": "xnj661AfFuhN"
      },
      "source": [
        "### Test Model In NIBRS"
      ]
    },
    {
      "cell_type": "code",
      "execution_count": 22,
      "metadata": {
        "colab": {
          "base_uri": "https://localhost:8080/",
          "height": 206
        },
        "id": "e9Lae4aGFuhO",
        "outputId": "90ec8e22-9ec2-4694-a0d3-bdc68b0303fd"
      },
      "outputs": [
        {
          "data": {
            "application/vnd.microsoft.datawrangler.viewer.v0+json": {
              "columns": [
                {
                  "name": "index",
                  "rawType": "int64",
                  "type": "integer"
                },
                {
                  "name": "arrest",
                  "rawType": "bool",
                  "type": "boolean"
                },
                {
                  "name": "UNIFIED_LOCATION_CODE",
                  "rawType": "int64",
                  "type": "integer"
                },
                {
                  "name": "month",
                  "rawType": "int64",
                  "type": "integer"
                },
                {
                  "name": "day",
                  "rawType": "int64",
                  "type": "integer"
                },
                {
                  "name": "hour",
                  "rawType": "int64",
                  "type": "integer"
                },
                {
                  "name": "weekday",
                  "rawType": "int64",
                  "type": "integer"
                },
                {
                  "name": "is_weekend",
                  "rawType": "int64",
                  "type": "integer"
                },
                {
                  "name": "is_holiday",
                  "rawType": "int64",
                  "type": "integer"
                },
                {
                  "name": "crime_against",
                  "rawType": "object",
                  "type": "string"
                },
                {
                  "name": "offense_category_name",
                  "rawType": "object",
                  "type": "string"
                }
              ],
              "conversionMethod": "pd.DataFrame",
              "ref": "57ac7cba-944e-4d93-b8d3-575e24c0f36f",
              "rows": [
                [
                  "0",
                  "True",
                  "1",
                  "1",
                  "19",
                  "21",
                  "3",
                  "0",
                  "0",
                  "Person",
                  "Assault Offenses"
                ],
                [
                  "1",
                  "True",
                  "1",
                  "2",
                  "8",
                  "18",
                  "2",
                  "0",
                  "0",
                  "Property",
                  "Destruction/Damage/Vandalism of Property"
                ],
                [
                  "2",
                  "True",
                  "1",
                  "4",
                  "13",
                  "13",
                  "3",
                  "0",
                  "0",
                  "Person",
                  "Assault Offenses"
                ],
                [
                  "3",
                  "True",
                  "2",
                  "4",
                  "13",
                  "21",
                  "3",
                  "0",
                  "0",
                  "Society",
                  "Drug/Narcotic Offenses"
                ],
                [
                  "4",
                  "True",
                  "1",
                  "5",
                  "20",
                  "15",
                  "5",
                  "1",
                  "0",
                  "Person",
                  "Assault Offenses"
                ]
              ],
              "shape": {
                "columns": 10,
                "rows": 5
              }
            },
            "text/html": [
              "<div>\n",
              "<style scoped>\n",
              "    .dataframe tbody tr th:only-of-type {\n",
              "        vertical-align: middle;\n",
              "    }\n",
              "\n",
              "    .dataframe tbody tr th {\n",
              "        vertical-align: top;\n",
              "    }\n",
              "\n",
              "    .dataframe thead th {\n",
              "        text-align: right;\n",
              "    }\n",
              "</style>\n",
              "<table border=\"1\" class=\"dataframe\">\n",
              "  <thead>\n",
              "    <tr style=\"text-align: right;\">\n",
              "      <th></th>\n",
              "      <th>arrest</th>\n",
              "      <th>UNIFIED_LOCATION_CODE</th>\n",
              "      <th>month</th>\n",
              "      <th>day</th>\n",
              "      <th>hour</th>\n",
              "      <th>weekday</th>\n",
              "      <th>is_weekend</th>\n",
              "      <th>is_holiday</th>\n",
              "      <th>crime_against</th>\n",
              "      <th>offense_category_name</th>\n",
              "    </tr>\n",
              "  </thead>\n",
              "  <tbody>\n",
              "    <tr>\n",
              "      <th>0</th>\n",
              "      <td>True</td>\n",
              "      <td>1</td>\n",
              "      <td>1</td>\n",
              "      <td>19</td>\n",
              "      <td>21</td>\n",
              "      <td>3</td>\n",
              "      <td>0</td>\n",
              "      <td>0</td>\n",
              "      <td>Person</td>\n",
              "      <td>Assault Offenses</td>\n",
              "    </tr>\n",
              "    <tr>\n",
              "      <th>1</th>\n",
              "      <td>True</td>\n",
              "      <td>1</td>\n",
              "      <td>2</td>\n",
              "      <td>8</td>\n",
              "      <td>18</td>\n",
              "      <td>2</td>\n",
              "      <td>0</td>\n",
              "      <td>0</td>\n",
              "      <td>Property</td>\n",
              "      <td>Destruction/Damage/Vandalism of Property</td>\n",
              "    </tr>\n",
              "    <tr>\n",
              "      <th>2</th>\n",
              "      <td>True</td>\n",
              "      <td>1</td>\n",
              "      <td>4</td>\n",
              "      <td>13</td>\n",
              "      <td>13</td>\n",
              "      <td>3</td>\n",
              "      <td>0</td>\n",
              "      <td>0</td>\n",
              "      <td>Person</td>\n",
              "      <td>Assault Offenses</td>\n",
              "    </tr>\n",
              "    <tr>\n",
              "      <th>3</th>\n",
              "      <td>True</td>\n",
              "      <td>2</td>\n",
              "      <td>4</td>\n",
              "      <td>13</td>\n",
              "      <td>21</td>\n",
              "      <td>3</td>\n",
              "      <td>0</td>\n",
              "      <td>0</td>\n",
              "      <td>Society</td>\n",
              "      <td>Drug/Narcotic Offenses</td>\n",
              "    </tr>\n",
              "    <tr>\n",
              "      <th>4</th>\n",
              "      <td>True</td>\n",
              "      <td>1</td>\n",
              "      <td>5</td>\n",
              "      <td>20</td>\n",
              "      <td>15</td>\n",
              "      <td>5</td>\n",
              "      <td>1</td>\n",
              "      <td>0</td>\n",
              "      <td>Person</td>\n",
              "      <td>Assault Offenses</td>\n",
              "    </tr>\n",
              "  </tbody>\n",
              "</table>\n",
              "</div>"
            ],
            "text/plain": [
              "   arrest  UNIFIED_LOCATION_CODE  month  day  hour  weekday  is_weekend  \\\n",
              "0    True                      1      1   19    21        3           0   \n",
              "1    True                      1      2    8    18        2           0   \n",
              "2    True                      1      4   13    13        3           0   \n",
              "3    True                      2      4   13    21        3           0   \n",
              "4    True                      1      5   20    15        5           1   \n",
              "\n",
              "   is_holiday crime_against                     offense_category_name  \n",
              "0           0        Person                          Assault Offenses  \n",
              "1           0      Property  Destruction/Damage/Vandalism of Property  \n",
              "2           0        Person                          Assault Offenses  \n",
              "3           0       Society                    Drug/Narcotic Offenses  \n",
              "4           0        Person                          Assault Offenses  "
            ]
          },
          "execution_count": 22,
          "metadata": {},
          "output_type": "execute_result"
        }
      ],
      "source": [
        "NIBRS_df = NIBRS_df[feature_columns]\n",
        "NIBRS_df.head()"
      ]
    },
    {
      "cell_type": "code",
      "execution_count": 23,
      "metadata": {
        "colab": {
          "base_uri": "https://localhost:8080/"
        },
        "id": "OZviYuH0FuhO",
        "outputId": "493d559e-a448-4af1-edbd-3aa75f7a8156"
      },
      "outputs": [
        {
          "name": "stdout",
          "output_type": "stream",
          "text": [
            "arrest                   0\n",
            "UNIFIED_LOCATION_CODE    0\n",
            "month                    0\n",
            "day                      0\n",
            "hour                     0\n",
            "weekday                  0\n",
            "is_weekend               0\n",
            "is_holiday               0\n",
            "crime_against            0\n",
            "offense_category_name    0\n",
            "dtype: int64\n",
            "arrest                   0\n",
            "UNIFIED_LOCATION_CODE    0\n",
            "month                    0\n",
            "day                      0\n",
            "hour                     0\n",
            "weekday                  0\n",
            "is_weekend               0\n",
            "is_holiday               0\n",
            "crime_against            0\n",
            "offense_category_name    0\n",
            "dtype: int64\n"
          ]
        }
      ],
      "source": [
        "# handle missing value\n",
        "print(chicago_df.isnull().sum())\n",
        "chicago_df = chicago_df.dropna()\n",
        "print(chicago_df.isnull().sum())"
      ]
    },
    {
      "cell_type": "code",
      "execution_count": 24,
      "metadata": {
        "id": "vBhdHQWZFuhO"
      },
      "outputs": [],
      "source": [
        "X_NIBRS_test = NIBRS_df.drop(columns=['arrest'])\n",
        "y_NIBRS_test = NIBRS_df['arrest']"
      ]
    },
    {
      "cell_type": "code",
      "execution_count": 25,
      "metadata": {
        "colab": {
          "base_uri": "https://localhost:8080/"
        },
        "id": "YLhCnWlHFuhO",
        "outputId": "fc5e4104-b3cb-472e-b5a5-91b726c614d4"
      },
      "outputs": [
        {
          "name": "stdout",
          "output_type": "stream",
          "text": [
            "NIBRS Classification Report:\n",
            "               precision    recall  f1-score   support\n",
            "\n",
            "       False       0.90      0.75      0.82    467171\n",
            "        True       0.33      0.59      0.42     95805\n",
            "\n",
            "    accuracy                           0.72    562976\n",
            "   macro avg       0.61      0.67      0.62    562976\n",
            "weighted avg       0.80      0.72      0.75    562976\n",
            "\n"
          ]
        }
      ],
      "source": [
        "# Keep the same columns sequences as in the training set\n",
        "X_NIBRS_test = X_NIBRS_test[X_train.columns]\n",
        "\n",
        "y_NIBRS_pred = model.predict(X_NIBRS_test)\n",
        "\n",
        "print(\"NIBRS Classification Report:\\n\", classification_report(y_NIBRS_test, y_NIBRS_pred))\n",
        "\n",
        "report_dict = classification_report(y_NIBRS_test, y_NIBRS_pred, output_dict=True)\n",
        "report_df = pd.DataFrame(report_dict).transpose()\n",
        "\n",
        "# Add to dictionary\n",
        "report_dfs['NIBRS - CatBoost'] = report_df\n",
        "\n",
        "# Add model name as column for stacking\n",
        "report_df['model'] = 'NIBRS - CatBoost'\n",
        "combined_report_df = pd.concat([combined_report_df, report_df])"
      ]
    },
    {
      "cell_type": "code",
      "execution_count": 26,
      "metadata": {},
      "outputs": [],
      "source": [
        "nibrs_predictions = pd.concat([X_NIBRS_test, nibrs_predictions], axis=1)"
      ]
    },
    {
      "cell_type": "code",
      "execution_count": 27,
      "metadata": {},
      "outputs": [
        {
          "name": "stdout",
          "output_type": "stream",
          "text": [
            "(562976, 13)\n",
            "562976\n",
            "562976\n"
          ]
        }
      ],
      "source": [
        "print(nibrs_predictions.shape)\n",
        "print(len(y_NIBRS_test))\n",
        "print(len(y_NIBRS_pred))"
      ]
    },
    {
      "cell_type": "code",
      "execution_count": 28,
      "metadata": {},
      "outputs": [],
      "source": [
        "nibrs_predictions.loc[:, \"y_true\"] = y_NIBRS_test   \n",
        "nibrs_predictions.loc[:, \"CatBoost\"] = y_NIBRS_pred"
      ]
    },
    {
      "cell_type": "markdown",
      "metadata": {},
      "source": [
        "## Random forest Model"
      ]
    },
    {
      "cell_type": "code",
      "execution_count": 29,
      "metadata": {
        "colab": {
          "base_uri": "https://localhost:8080/"
        },
        "id": "eCofn8kz5a5B",
        "outputId": "cfacb543-b54a-4a43-e9ee-8d27f4a83f22"
      },
      "outputs": [
        {
          "name": "stdout",
          "output_type": "stream",
          "text": [
            "arrest                     bool\n",
            "UNIFIED_LOCATION_CODE     int64\n",
            "month                     int64\n",
            "day                       int64\n",
            "hour                      int64\n",
            "weekday                   int64\n",
            "is_weekend                int64\n",
            "is_holiday                int64\n",
            "crime_against            object\n",
            "offense_category_name    object\n",
            "dtype: object\n",
            "Index(['arrest', 'crime_against', 'offense_category_name'], dtype='object')\n"
          ]
        }
      ],
      "source": [
        "# Check data types of all columns\n",
        "print(chicago_df.dtypes)\n",
        "\n",
        "# Check for non-numeric columns\n",
        "non_numeric_columns = chicago_df.select_dtypes(exclude=['number']).columns\n",
        "print(non_numeric_columns)"
      ]
    },
    {
      "cell_type": "code",
      "execution_count": 30,
      "metadata": {
        "id": "ruJGSj0N5t1f"
      },
      "outputs": [],
      "source": [
        "label_encoder = LabelEncoder()\n",
        "chicago_df['crime_against']= label_encoder.fit_transform(chicago_df['crime_against'])\n",
        "chicago_df['offense_category_name']= label_encoder.fit_transform(chicago_df['offense_category_name'])"
      ]
    },
    {
      "cell_type": "code",
      "execution_count": 31,
      "metadata": {
        "id": "cm_5uQxwyBjd"
      },
      "outputs": [],
      "source": [
        "X = chicago_df.drop(columns=['arrest'])\n",
        "y = chicago_df['arrest']\n",
        "\n",
        "# split train and test\n",
        "X_train, X_test, y_train, y_test = train_test_split(X, y, test_size=0.2, random_state=42, stratify=y)"
      ]
    },
    {
      "cell_type": "code",
      "execution_count": 32,
      "metadata": {
        "colab": {
          "base_uri": "https://localhost:8080/"
        },
        "id": "aMIDnalRyd33",
        "outputId": "2fe6077b-12b1-45c6-b90a-398836bb90af"
      },
      "outputs": [
        {
          "data": {
            "text/plain": [
              "0"
            ]
          },
          "execution_count": 32,
          "metadata": {},
          "output_type": "execute_result"
        }
      ],
      "source": [
        "y_test.isna().sum()"
      ]
    },
    {
      "cell_type": "markdown",
      "metadata": {
        "id": "EUzwM0yO-qIR"
      },
      "source": [
        "* Random forests are great for handling imbalanced datasets.\n",
        "\n",
        "\n",
        "* Set class_weight='balanced' to handle the imbalance by adjusting the weight of the classes in the tree.\n",
        "\n"
      ]
    },
    {
      "cell_type": "code",
      "execution_count": 33,
      "metadata": {
        "id": "XqVo8a_VyKrd"
      },
      "outputs": [],
      "source": [
        "# Handle class imbalance using SMOTE ONLY on the training data\n",
        "smote = SMOTE(random_state=42)\n",
        "X_train_res, y_train_res = smote.fit_resample(X_train, y_train)"
      ]
    },
    {
      "cell_type": "code",
      "execution_count": 34,
      "metadata": {
        "colab": {
          "base_uri": "https://localhost:8080/"
        },
        "id": "RDaARvQ93_JQ",
        "outputId": "e8b153dc-b466-4082-f139-160ec1447996"
      },
      "outputs": [
        {
          "name": "stdout",
          "output_type": "stream",
          "text": [
            "              precision    recall  f1-score   support\n",
            "\n",
            "       False       0.93      0.87      0.90     78768\n",
            "        True       0.37      0.55      0.44     10930\n",
            "\n",
            "    accuracy                           0.83     89698\n",
            "   macro avg       0.65      0.71      0.67     89698\n",
            "weighted avg       0.86      0.83      0.84     89698\n",
            "\n",
            "[[68526 10242]\n",
            " [ 4914  6016]]\n"
          ]
        }
      ],
      "source": [
        "# Initialize and train your model\n",
        "rf_model = RandomForestClassifier(n_estimators=100, class_weight='balanced', random_state=42)\n",
        "rf_model.fit(X_train_res, y_train_res)\n",
        "\n",
        "# Predict and evaluate on the unmodified test set\n",
        "y_pred = rf_model.predict(X_test)\n",
        "\n",
        "# Evaluation\n",
        "print(classification_report(y_test, y_pred))\n",
        "print(confusion_matrix(y_test, y_pred))\n",
        "\n",
        "report_dict = classification_report(y_test, y_pred, output_dict=True)\n",
        "report_df = pd.DataFrame(report_dict).transpose()\n",
        "\n",
        "# Add to dictionary\n",
        "report_dfs['Chicago - RandomForest'] = report_df\n",
        "\n",
        "# Add model name as column for stacking\n",
        "report_df['model'] = 'Chicago - RandomForest'\n",
        "combined_report_df = pd.concat([combined_report_df, report_df])"
      ]
    },
    {
      "cell_type": "code",
      "execution_count": 35,
      "metadata": {},
      "outputs": [
        {
          "name": "stdout",
          "output_type": "stream",
          "text": [
            "<class 'pandas.core.series.Series'> 89698\n",
            "<class 'pandas.core.series.Series'> 89698\n",
            "Are they completely equal? True\n",
            "Mismatched rows: 0\n",
            "Sample mismatches:\n",
            "Series([], Name: y_true, dtype: object)\n",
            "Series([], Name: arrest, dtype: bool)\n"
          ]
        }
      ],
      "source": [
        "# Check where they differ\n",
        "y_true = chicago_predictions['y_true'].reset_index(drop=True)\n",
        "y_test_reset = y_test.reset_index(drop=True)\n",
        "\n",
        "print(type(y_true), len(y_true))\n",
        "print(type(y_test_reset), len(y_test_reset))\n",
        "\n",
        "diff = y_true != y_test_reset\n",
        "\n",
        "# View mismatches\n",
        "print(\"Are they completely equal?\", (~diff).all())\n",
        "print(\"Mismatched rows:\", diff.sum())\n",
        "print(\"Sample mismatches:\")\n",
        "print(y_true[diff])\n",
        "print(y_test_reset[diff])\n"
      ]
    },
    {
      "cell_type": "code",
      "execution_count": 36,
      "metadata": {},
      "outputs": [],
      "source": [
        "chicago_predictions.loc[:, \"RandomForest\"] = y_pred"
      ]
    },
    {
      "cell_type": "markdown",
      "metadata": {
        "id": "YkG54iTCAxum"
      },
      "source": [
        "### Test Model in NIBRS"
      ]
    },
    {
      "cell_type": "code",
      "execution_count": 37,
      "metadata": {
        "colab": {
          "base_uri": "https://localhost:8080/",
          "height": 206
        },
        "id": "WPvo7V2T6QJK",
        "outputId": "56212a31-a6e6-48f0-9fd8-a19182509e16"
      },
      "outputs": [
        {
          "data": {
            "application/vnd.microsoft.datawrangler.viewer.v0+json": {
              "columns": [
                {
                  "name": "index",
                  "rawType": "int64",
                  "type": "integer"
                },
                {
                  "name": "arrest",
                  "rawType": "bool",
                  "type": "boolean"
                },
                {
                  "name": "UNIFIED_LOCATION_CODE",
                  "rawType": "int64",
                  "type": "integer"
                },
                {
                  "name": "month",
                  "rawType": "int64",
                  "type": "integer"
                },
                {
                  "name": "day",
                  "rawType": "int64",
                  "type": "integer"
                },
                {
                  "name": "hour",
                  "rawType": "int64",
                  "type": "integer"
                },
                {
                  "name": "weekday",
                  "rawType": "int64",
                  "type": "integer"
                },
                {
                  "name": "is_weekend",
                  "rawType": "int64",
                  "type": "integer"
                },
                {
                  "name": "is_holiday",
                  "rawType": "int64",
                  "type": "integer"
                },
                {
                  "name": "crime_against",
                  "rawType": "object",
                  "type": "string"
                },
                {
                  "name": "offense_category_name",
                  "rawType": "object",
                  "type": "string"
                }
              ],
              "conversionMethod": "pd.DataFrame",
              "ref": "1c2890f3-afc0-41f0-a44a-0fd47e11e5a2",
              "rows": [
                [
                  "0",
                  "True",
                  "1",
                  "1",
                  "19",
                  "21",
                  "3",
                  "0",
                  "0",
                  "Person",
                  "Assault Offenses"
                ],
                [
                  "1",
                  "True",
                  "1",
                  "2",
                  "8",
                  "18",
                  "2",
                  "0",
                  "0",
                  "Property",
                  "Destruction/Damage/Vandalism of Property"
                ],
                [
                  "2",
                  "True",
                  "1",
                  "4",
                  "13",
                  "13",
                  "3",
                  "0",
                  "0",
                  "Person",
                  "Assault Offenses"
                ],
                [
                  "3",
                  "True",
                  "2",
                  "4",
                  "13",
                  "21",
                  "3",
                  "0",
                  "0",
                  "Society",
                  "Drug/Narcotic Offenses"
                ],
                [
                  "4",
                  "True",
                  "1",
                  "5",
                  "20",
                  "15",
                  "5",
                  "1",
                  "0",
                  "Person",
                  "Assault Offenses"
                ]
              ],
              "shape": {
                "columns": 10,
                "rows": 5
              }
            },
            "text/html": [
              "<div>\n",
              "<style scoped>\n",
              "    .dataframe tbody tr th:only-of-type {\n",
              "        vertical-align: middle;\n",
              "    }\n",
              "\n",
              "    .dataframe tbody tr th {\n",
              "        vertical-align: top;\n",
              "    }\n",
              "\n",
              "    .dataframe thead th {\n",
              "        text-align: right;\n",
              "    }\n",
              "</style>\n",
              "<table border=\"1\" class=\"dataframe\">\n",
              "  <thead>\n",
              "    <tr style=\"text-align: right;\">\n",
              "      <th></th>\n",
              "      <th>arrest</th>\n",
              "      <th>UNIFIED_LOCATION_CODE</th>\n",
              "      <th>month</th>\n",
              "      <th>day</th>\n",
              "      <th>hour</th>\n",
              "      <th>weekday</th>\n",
              "      <th>is_weekend</th>\n",
              "      <th>is_holiday</th>\n",
              "      <th>crime_against</th>\n",
              "      <th>offense_category_name</th>\n",
              "    </tr>\n",
              "  </thead>\n",
              "  <tbody>\n",
              "    <tr>\n",
              "      <th>0</th>\n",
              "      <td>True</td>\n",
              "      <td>1</td>\n",
              "      <td>1</td>\n",
              "      <td>19</td>\n",
              "      <td>21</td>\n",
              "      <td>3</td>\n",
              "      <td>0</td>\n",
              "      <td>0</td>\n",
              "      <td>Person</td>\n",
              "      <td>Assault Offenses</td>\n",
              "    </tr>\n",
              "    <tr>\n",
              "      <th>1</th>\n",
              "      <td>True</td>\n",
              "      <td>1</td>\n",
              "      <td>2</td>\n",
              "      <td>8</td>\n",
              "      <td>18</td>\n",
              "      <td>2</td>\n",
              "      <td>0</td>\n",
              "      <td>0</td>\n",
              "      <td>Property</td>\n",
              "      <td>Destruction/Damage/Vandalism of Property</td>\n",
              "    </tr>\n",
              "    <tr>\n",
              "      <th>2</th>\n",
              "      <td>True</td>\n",
              "      <td>1</td>\n",
              "      <td>4</td>\n",
              "      <td>13</td>\n",
              "      <td>13</td>\n",
              "      <td>3</td>\n",
              "      <td>0</td>\n",
              "      <td>0</td>\n",
              "      <td>Person</td>\n",
              "      <td>Assault Offenses</td>\n",
              "    </tr>\n",
              "    <tr>\n",
              "      <th>3</th>\n",
              "      <td>True</td>\n",
              "      <td>2</td>\n",
              "      <td>4</td>\n",
              "      <td>13</td>\n",
              "      <td>21</td>\n",
              "      <td>3</td>\n",
              "      <td>0</td>\n",
              "      <td>0</td>\n",
              "      <td>Society</td>\n",
              "      <td>Drug/Narcotic Offenses</td>\n",
              "    </tr>\n",
              "    <tr>\n",
              "      <th>4</th>\n",
              "      <td>True</td>\n",
              "      <td>1</td>\n",
              "      <td>5</td>\n",
              "      <td>20</td>\n",
              "      <td>15</td>\n",
              "      <td>5</td>\n",
              "      <td>1</td>\n",
              "      <td>0</td>\n",
              "      <td>Person</td>\n",
              "      <td>Assault Offenses</td>\n",
              "    </tr>\n",
              "  </tbody>\n",
              "</table>\n",
              "</div>"
            ],
            "text/plain": [
              "   arrest  UNIFIED_LOCATION_CODE  month  day  hour  weekday  is_weekend  \\\n",
              "0    True                      1      1   19    21        3           0   \n",
              "1    True                      1      2    8    18        2           0   \n",
              "2    True                      1      4   13    13        3           0   \n",
              "3    True                      2      4   13    21        3           0   \n",
              "4    True                      1      5   20    15        5           1   \n",
              "\n",
              "   is_holiday crime_against                     offense_category_name  \n",
              "0           0        Person                          Assault Offenses  \n",
              "1           0      Property  Destruction/Damage/Vandalism of Property  \n",
              "2           0        Person                          Assault Offenses  \n",
              "3           0       Society                    Drug/Narcotic Offenses  \n",
              "4           0        Person                          Assault Offenses  "
            ]
          },
          "execution_count": 37,
          "metadata": {},
          "output_type": "execute_result"
        }
      ],
      "source": [
        "NIBRS_df = NIBRS_df[feature_columns]\n",
        "NIBRS_df.head()"
      ]
    },
    {
      "cell_type": "code",
      "execution_count": 38,
      "metadata": {
        "id": "nNHV8YhZ_AnW"
      },
      "outputs": [],
      "source": [
        "label_encoder = LabelEncoder()\n",
        "NIBRS_df['crime_against']= label_encoder.fit_transform(NIBRS_df['crime_against'])\n",
        "NIBRS_df['offense_category_name']= label_encoder.fit_transform(NIBRS_df['offense_category_name'])"
      ]
    },
    {
      "cell_type": "code",
      "execution_count": 39,
      "metadata": {
        "id": "NDIeqNfu_HPH"
      },
      "outputs": [],
      "source": [
        "X_NIBRS_test = NIBRS_df.drop(columns=['arrest'])\n",
        "y_NIBRS_test = NIBRS_df['arrest']"
      ]
    },
    {
      "cell_type": "code",
      "execution_count": 40,
      "metadata": {
        "colab": {
          "base_uri": "https://localhost:8080/"
        },
        "id": "eRgTjIa2_ZGM",
        "outputId": "2e16bca0-4554-4503-dd9f-e185392f095a"
      },
      "outputs": [
        {
          "name": "stdout",
          "output_type": "stream",
          "text": [
            "NIBRS Classification Report:\n",
            "               precision    recall  f1-score   support\n",
            "\n",
            "       False       0.90      0.33      0.49    467171\n",
            "        True       0.20      0.82      0.32     95805\n",
            "\n",
            "    accuracy                           0.42    562976\n",
            "   macro avg       0.55      0.58      0.41    562976\n",
            "weighted avg       0.78      0.42      0.46    562976\n",
            "\n"
          ]
        }
      ],
      "source": [
        "# Keep the same columns sequences as in the training set\n",
        "X_NIBRS_test = X_NIBRS_test[X_train.columns]\n",
        "\n",
        "y_NIBRS_pred = rf_model.predict(X_NIBRS_test)\n",
        "\n",
        "print(\"NIBRS Classification Report:\\n\", classification_report(y_NIBRS_test, y_NIBRS_pred))\n",
        "report_dict = classification_report(y_NIBRS_test, y_NIBRS_pred, output_dict=True)\n",
        "report_df = pd.DataFrame(report_dict).transpose()\n",
        "\n",
        "# Add to dictionary\n",
        "report_dfs['NIBRS - RandomForest'] = report_df\n",
        "\n",
        "# Add model name as column for stacking\n",
        "report_df['model'] = 'NIBRS - RandomForest'\n",
        "combined_report_df = pd.concat([combined_report_df, report_df])"
      ]
    },
    {
      "cell_type": "code",
      "execution_count": 41,
      "metadata": {},
      "outputs": [
        {
          "name": "stdout",
          "output_type": "stream",
          "text": [
            "<class 'pandas.core.series.Series'> 562976\n",
            "<class 'pandas.core.series.Series'> 562976\n",
            "Are they completely equal? True\n",
            "Mismatched rows: 0\n"
          ]
        }
      ],
      "source": [
        "# Check where they differ\n",
        "y_true = nibrs_predictions['y_true'].reset_index(drop=True)\n",
        "y_test_reset = y_NIBRS_test.reset_index(drop=True)\n",
        "\n",
        "print(type(y_true), len(y_true))\n",
        "print(type(y_test_reset), len(y_test_reset))\n",
        "\n",
        "diff = y_true != y_test_reset\n",
        "\n",
        "# View mismatches\n",
        "print(\"Are they completely equal?\", (~diff).all())\n",
        "print(\"Mismatched rows:\", diff.sum())\n"
      ]
    },
    {
      "cell_type": "code",
      "execution_count": 42,
      "metadata": {},
      "outputs": [],
      "source": [
        "nibrs_predictions.loc[:, \"RandomForest\"] = y_NIBRS_pred"
      ]
    },
    {
      "cell_type": "markdown",
      "metadata": {
        "id": "r5dcKbdrPJum"
      },
      "source": [
        "## Logistic Regression with SGDClassifier"
      ]
    },
    {
      "cell_type": "markdown",
      "metadata": {
        "id": "X_hExvsUFvFD"
      },
      "source": [
        "The Logistic Regression model was selected for this arrest prediction task due to its distinct advantages in handling the given feature space (crime type, time, and location) and its fundamental algorithmic differences from the previously attempted CatBoost model.  \n",
        "\n",
        "**Key Justifications:**  \n",
        "1. **Interpretability**: Logistic Regression provides clear insights into the relationship between features and the target variable, making it easier to understand how different factors influence arrest probabilities.\n",
        "2. **Simplicity**: The model's straightforward nature allows for efficient training and evaluation, especially in scenarios with a large number of features.\n",
        "3. **Performance**: Logistic Regression is known for its robustness and effectiveness in binary classification tasks, particularly when the relationship between features and the target variable is approximately linear.\n",
        "4. **Scalability**: The model can handle large datasets efficiently, making it suitable for the volume of data in this project.\n",
        "5. **Regularization**: Logistic Regression can incorporate regularization techniques (L1 and L2) to prevent overfitting, which is crucial given the potential complexity of the feature space.\n",
        "6. **Baseline Comparison**: Using Logistic Regression allows for a clear baseline to compare against more complex models, such as CatBoost, ensuring that any improvements in performance can be attributed to the model's complexity rather than the feature set."
      ]
    },
    {
      "cell_type": "markdown",
      "metadata": {
        "id": "RYgTtqhlFvFD"
      },
      "source": [
        "### Imbalanced data\n",
        "For `arrest` feature, it is extremely imbalanced with highly unarrested proportion.\n",
        "\n",
        "We will use `SGDClassifier` with `log` loss function. The `log` loss function is used for binary classification problems and is suitable for our task of predicting arrests. The `SGDClassifier` is a linear classifier that uses stochastic gradient descent to optimize the model parameters. It is efficient for large datasets and can handle online learning scenarios.\n"
      ]
    },
    {
      "cell_type": "code",
      "execution_count": 43,
      "metadata": {
        "colab": {
          "base_uri": "https://localhost:8080/"
        },
        "id": "eiR2IUhSFvFD",
        "outputId": "2b19b839-1cfd-4610-9eb4-f0d635e43f2a"
      },
      "outputs": [
        {
          "name": "stdout",
          "output_type": "stream",
          "text": [
            "Optimal Threshold: 0.5686959523903102\n",
            "Classification Report (Optimized Threshold):\n",
            "              precision    recall  f1-score   support\n",
            "\n",
            "       False       0.93      0.97      0.95     78768\n",
            "        True       0.69      0.46      0.55     10930\n",
            "\n",
            "    accuracy                           0.91     89698\n",
            "   macro avg       0.81      0.72      0.75     89698\n",
            "weighted avg       0.90      0.91      0.90     89698\n",
            "\n",
            "\n",
            "Confusion Matrix (Optimized Threshold):\n",
            "[[76502  2266]\n",
            " [ 5911  5019]]\n"
          ]
        }
      ],
      "source": [
        "# Define feature types\n",
        "numeric_features = ['UNIFIED_LOCATION_CODE', 'month', 'day', 'hour', 'weekday']\n",
        "binary_features = ['is_weekend', 'is_holiday']\n",
        "categorical_features = ['crime_against', 'offense_category_name']\n",
        "\n",
        "\n",
        "preprocessor = ColumnTransformer(\n",
        "    transformers=[\n",
        "        ('num', StandardScaler(), numeric_features),\n",
        "        ('binary', 'passthrough', binary_features),\n",
        "        ('cat', OneHotEncoder(handle_unknown='ignore', sparse_output=False), categorical_features)\n",
        "    ])\n",
        "\n",
        "# Define the model pipeline\n",
        "# Using SGDClassifier with log loss for binary classification\n",
        "# SGDClassifier is a linear classifier that uses stochastic gradient descent\n",
        "model = Pipeline([\n",
        "    ('preprocessor', preprocessor),\n",
        "    ('classifier', SGDClassifier(\n",
        "        loss='log_loss',\n",
        "        class_weight={False: 2, True: 8},\n",
        "        penalty='l2',\n",
        "        alpha=0.001,\n",
        "        # class_weight='balanced',\n",
        "        max_iter=1000,\n",
        "        random_state=42,\n",
        "        early_stopping=True,\n",
        "        validation_fraction=0.1\n",
        "    ))\n",
        "])\n",
        "\n",
        "# Split the data into features and target variable\n",
        "X = chicago_df.drop(columns=['arrest'])\n",
        "y = chicago_df['arrest']\n",
        "X_train, X_test, y_train, y_test = train_test_split(\n",
        "    X, y, test_size=0.2, random_state=42, stratify=y)\n",
        "\n",
        "model.fit(X_train, y_train)\n",
        "\n",
        "\n",
        "y_scores = model.decision_function(X_test)\n",
        "\n",
        "# Optimal threshold calculation based on F1 score\n",
        "precision, recall, thresholds = precision_recall_curve(y_test, y_scores)\n",
        "# print(\"original performance\\n\", \"Precision: \", precision, \"Recall: \",recall,\"thresholds: \", thresholds)\n",
        "\n",
        "optimal_idx = np.argmax(2 * precision * recall / (precision + recall))  # F1 score\n",
        "optimal_threshold = thresholds[optimal_idx]\n",
        "\n",
        "# Optimal threshold\n",
        "print(\"Optimal Threshold:\", optimal_threshold)\n",
        "y_pred_optimized = (y_scores > optimal_threshold).astype(int)\n",
        "\n",
        "print(\"Classification Report (Optimized Threshold):\")\n",
        "print(classification_report(y_test, y_pred_optimized))\n",
        "\n",
        "print(\"\\nConfusion Matrix (Optimized Threshold):\")\n",
        "print(confusion_matrix(y_test, y_pred_optimized))\n",
        "\n",
        "report_dict = classification_report(y_test, y_pred_optimized, output_dict=True)\n",
        "report_df = pd.DataFrame(report_dict).transpose()\n",
        "\n",
        "# Add to dictionary\n",
        "report_dfs['Chicago - SGDClassifier'] = report_df\n",
        "\n",
        "# Add model name as column for stacking\n",
        "report_df['model'] = 'Chicago - SGDClassifier'\n",
        "combined_report_df = pd.concat([combined_report_df, report_df])"
      ]
    },
    {
      "cell_type": "code",
      "execution_count": 44,
      "metadata": {},
      "outputs": [
        {
          "name": "stdout",
          "output_type": "stream",
          "text": [
            "<class 'pandas.core.series.Series'> 89698\n",
            "<class 'pandas.core.series.Series'> 89698\n",
            "Are they completely equal? True\n",
            "Mismatched rows: 0\n"
          ]
        }
      ],
      "source": [
        "# Check where they differ\n",
        "y_true = chicago_predictions['y_true'].reset_index(drop=True)\n",
        "y_test_reset = y_test.reset_index(drop=True)\n",
        "\n",
        "print(type(y_true), len(y_true))\n",
        "print(type(y_test_reset), len(y_test_reset))\n",
        "\n",
        "diff = y_true != y_test_reset\n",
        "\n",
        "# View mismatches\n",
        "print(\"Are they completely equal?\", (~diff).all())\n",
        "print(\"Mismatched rows:\", diff.sum())\n"
      ]
    },
    {
      "cell_type": "code",
      "execution_count": 45,
      "metadata": {},
      "outputs": [],
      "source": [
        "chicago_predictions.loc[:, \"LogisticRegression\"] = y_pred_optimized\n"
      ]
    },
    {
      "cell_type": "code",
      "execution_count": 46,
      "metadata": {
        "colab": {
          "base_uri": "https://localhost:8080/",
          "height": 71
        },
        "id": "e74uQa-ZFvFD",
        "outputId": "c946593a-eb0b-4b16-cbec-8ff21a58bc07"
      },
      "outputs": [
        {
          "name": "stdout",
          "output_type": "stream",
          "text": [
            "Model saved to log_regression.pkl\n"
          ]
        },
        {
          "data": {
            "text/plain": [
              "'\\nTest the saved model with the NIBRS dataset (for merged testing)\\n\\n# Load the model from the file\\nloaded_model = joblib.load(model_filename)\\nprint(\"Model loaded from file.\")\\n# Test the loaded model with the test set\\ny_pred_loaded = loaded_model.predict(X_test)\\nprint(\"Loaded Model Classification Report:\")\\n'"
            ]
          },
          "execution_count": 46,
          "metadata": {},
          "output_type": "execute_result"
        }
      ],
      "source": [
        "import joblib\n",
        "\n",
        "# Save the trained model to a file\n",
        "model_filename = \"log_regression.pkl\"\n",
        "joblib.dump(model, model_filename)\n",
        "print(f\"Model saved to {model_filename}\")\n",
        "\n",
        "\"\"\"\n",
        "Test the saved model with the NIBRS dataset (for merged testing)\n",
        "\n",
        "# Load the model from the file\n",
        "loaded_model = joblib.load(model_filename)\n",
        "print(\"Model loaded from file.\")\n",
        "# Test the loaded model with the test set\n",
        "y_pred_loaded = loaded_model.predict(X_test)\n",
        "print(\"Loaded Model Classification Report:\")\n",
        "\"\"\""
      ]
    },
    {
      "cell_type": "code",
      "execution_count": 47,
      "metadata": {
        "id": "aWmyTUUSFvFE"
      },
      "outputs": [],
      "source": [
        "# param_dist = {\n",
        "#     'depth': [4, 6],\n",
        "#     'learning_rate': [0.03, 0.05],\n",
        "#     'l2_leaf_reg': [3, 5, 7],\n",
        "#     'scale_pos_weight': [arrest_weight, arrest_weight * 1.5],\n",
        "#     'border_count': [32, 64]\n",
        "# }\n",
        "\n",
        "# random_search = RandomizedSearchCV(\n",
        "#     estimator=model,\n",
        "#     param_distributions=param_dist,\n",
        "#     n_iter=10,\n",
        "#     scoring='f1',\n",
        "#     cv=2,\n",
        "#     verbose=1,\n",
        "#     n_jobs=-1  # Use all available cores\n",
        "# )\n",
        "\n",
        "# random_search.fit(X_train, y_train)\n",
        "\n",
        "# print(\"Best Params:\", random_search.best_params_)"
      ]
    },
    {
      "cell_type": "markdown",
      "metadata": {
        "id": "kuWU1QBKFvFE"
      },
      "source": [
        "### Test Model In NIBRS"
      ]
    },
    {
      "cell_type": "code",
      "execution_count": 48,
      "metadata": {
        "colab": {
          "base_uri": "https://localhost:8080/",
          "height": 206
        },
        "id": "zWIB-x2ZFvFE",
        "outputId": "5b33e2a9-b9b8-4694-9fcf-98d8253f1a80"
      },
      "outputs": [
        {
          "data": {
            "application/vnd.microsoft.datawrangler.viewer.v0+json": {
              "columns": [
                {
                  "name": "index",
                  "rawType": "int64",
                  "type": "integer"
                },
                {
                  "name": "arrest",
                  "rawType": "bool",
                  "type": "boolean"
                },
                {
                  "name": "UNIFIED_LOCATION_CODE",
                  "rawType": "int64",
                  "type": "integer"
                },
                {
                  "name": "month",
                  "rawType": "int64",
                  "type": "integer"
                },
                {
                  "name": "day",
                  "rawType": "int64",
                  "type": "integer"
                },
                {
                  "name": "hour",
                  "rawType": "int64",
                  "type": "integer"
                },
                {
                  "name": "weekday",
                  "rawType": "int64",
                  "type": "integer"
                },
                {
                  "name": "is_weekend",
                  "rawType": "int64",
                  "type": "integer"
                },
                {
                  "name": "is_holiday",
                  "rawType": "int64",
                  "type": "integer"
                },
                {
                  "name": "crime_against",
                  "rawType": "int64",
                  "type": "integer"
                },
                {
                  "name": "offense_category_name",
                  "rawType": "int64",
                  "type": "integer"
                }
              ],
              "conversionMethod": "pd.DataFrame",
              "ref": "1d05ddb0-989c-4d62-ace0-070058cfc1bd",
              "rows": [
                [
                  "0",
                  "True",
                  "1",
                  "1",
                  "19",
                  "21",
                  "3",
                  "0",
                  "0",
                  "0",
                  "2"
                ],
                [
                  "1",
                  "True",
                  "1",
                  "2",
                  "8",
                  "18",
                  "2",
                  "0",
                  "0",
                  "1",
                  "6"
                ],
                [
                  "2",
                  "True",
                  "1",
                  "4",
                  "13",
                  "13",
                  "3",
                  "0",
                  "0",
                  "0",
                  "2"
                ],
                [
                  "3",
                  "True",
                  "2",
                  "4",
                  "13",
                  "21",
                  "3",
                  "0",
                  "0",
                  "2",
                  "7"
                ],
                [
                  "4",
                  "True",
                  "1",
                  "5",
                  "20",
                  "15",
                  "5",
                  "1",
                  "0",
                  "0",
                  "2"
                ]
              ],
              "shape": {
                "columns": 10,
                "rows": 5
              }
            },
            "text/html": [
              "<div>\n",
              "<style scoped>\n",
              "    .dataframe tbody tr th:only-of-type {\n",
              "        vertical-align: middle;\n",
              "    }\n",
              "\n",
              "    .dataframe tbody tr th {\n",
              "        vertical-align: top;\n",
              "    }\n",
              "\n",
              "    .dataframe thead th {\n",
              "        text-align: right;\n",
              "    }\n",
              "</style>\n",
              "<table border=\"1\" class=\"dataframe\">\n",
              "  <thead>\n",
              "    <tr style=\"text-align: right;\">\n",
              "      <th></th>\n",
              "      <th>arrest</th>\n",
              "      <th>UNIFIED_LOCATION_CODE</th>\n",
              "      <th>month</th>\n",
              "      <th>day</th>\n",
              "      <th>hour</th>\n",
              "      <th>weekday</th>\n",
              "      <th>is_weekend</th>\n",
              "      <th>is_holiday</th>\n",
              "      <th>crime_against</th>\n",
              "      <th>offense_category_name</th>\n",
              "    </tr>\n",
              "  </thead>\n",
              "  <tbody>\n",
              "    <tr>\n",
              "      <th>0</th>\n",
              "      <td>True</td>\n",
              "      <td>1</td>\n",
              "      <td>1</td>\n",
              "      <td>19</td>\n",
              "      <td>21</td>\n",
              "      <td>3</td>\n",
              "      <td>0</td>\n",
              "      <td>0</td>\n",
              "      <td>0</td>\n",
              "      <td>2</td>\n",
              "    </tr>\n",
              "    <tr>\n",
              "      <th>1</th>\n",
              "      <td>True</td>\n",
              "      <td>1</td>\n",
              "      <td>2</td>\n",
              "      <td>8</td>\n",
              "      <td>18</td>\n",
              "      <td>2</td>\n",
              "      <td>0</td>\n",
              "      <td>0</td>\n",
              "      <td>1</td>\n",
              "      <td>6</td>\n",
              "    </tr>\n",
              "    <tr>\n",
              "      <th>2</th>\n",
              "      <td>True</td>\n",
              "      <td>1</td>\n",
              "      <td>4</td>\n",
              "      <td>13</td>\n",
              "      <td>13</td>\n",
              "      <td>3</td>\n",
              "      <td>0</td>\n",
              "      <td>0</td>\n",
              "      <td>0</td>\n",
              "      <td>2</td>\n",
              "    </tr>\n",
              "    <tr>\n",
              "      <th>3</th>\n",
              "      <td>True</td>\n",
              "      <td>2</td>\n",
              "      <td>4</td>\n",
              "      <td>13</td>\n",
              "      <td>21</td>\n",
              "      <td>3</td>\n",
              "      <td>0</td>\n",
              "      <td>0</td>\n",
              "      <td>2</td>\n",
              "      <td>7</td>\n",
              "    </tr>\n",
              "    <tr>\n",
              "      <th>4</th>\n",
              "      <td>True</td>\n",
              "      <td>1</td>\n",
              "      <td>5</td>\n",
              "      <td>20</td>\n",
              "      <td>15</td>\n",
              "      <td>5</td>\n",
              "      <td>1</td>\n",
              "      <td>0</td>\n",
              "      <td>0</td>\n",
              "      <td>2</td>\n",
              "    </tr>\n",
              "  </tbody>\n",
              "</table>\n",
              "</div>"
            ],
            "text/plain": [
              "   arrest  UNIFIED_LOCATION_CODE  month  day  hour  weekday  is_weekend  \\\n",
              "0    True                      1      1   19    21        3           0   \n",
              "1    True                      1      2    8    18        2           0   \n",
              "2    True                      1      4   13    13        3           0   \n",
              "3    True                      2      4   13    21        3           0   \n",
              "4    True                      1      5   20    15        5           1   \n",
              "\n",
              "   is_holiday  crime_against  offense_category_name  \n",
              "0           0              0                      2  \n",
              "1           0              1                      6  \n",
              "2           0              0                      2  \n",
              "3           0              2                      7  \n",
              "4           0              0                      2  "
            ]
          },
          "execution_count": 48,
          "metadata": {},
          "output_type": "execute_result"
        }
      ],
      "source": [
        "NIBRS_df = NIBRS_df[feature_columns]\n",
        "NIBRS_df.head()"
      ]
    },
    {
      "cell_type": "code",
      "execution_count": 49,
      "metadata": {
        "colab": {
          "base_uri": "https://localhost:8080/"
        },
        "id": "h7X96UreFvFE",
        "outputId": "fb8c455d-7e06-466b-94af-f26ef11b7cba"
      },
      "outputs": [
        {
          "name": "stdout",
          "output_type": "stream",
          "text": [
            "arrest                   0\n",
            "UNIFIED_LOCATION_CODE    0\n",
            "month                    0\n",
            "day                      0\n",
            "hour                     0\n",
            "weekday                  0\n",
            "is_weekend               0\n",
            "is_holiday               0\n",
            "crime_against            0\n",
            "offense_category_name    0\n",
            "dtype: int64\n",
            "arrest                   0\n",
            "UNIFIED_LOCATION_CODE    0\n",
            "month                    0\n",
            "day                      0\n",
            "hour                     0\n",
            "weekday                  0\n",
            "is_weekend               0\n",
            "is_holiday               0\n",
            "crime_against            0\n",
            "offense_category_name    0\n",
            "dtype: int64\n"
          ]
        }
      ],
      "source": [
        "# handle missing value\n",
        "print(chicago_df.isnull().sum())\n",
        "chicago_df = chicago_df.dropna()\n",
        "print(chicago_df.isnull().sum())"
      ]
    },
    {
      "cell_type": "code",
      "execution_count": 50,
      "metadata": {
        "id": "RJDLFv17FvFE"
      },
      "outputs": [],
      "source": [
        "X_NIBRS_test = NIBRS_df.drop(columns=['arrest'])\n",
        "y_NIBRS_test = NIBRS_df['arrest']"
      ]
    },
    {
      "cell_type": "code",
      "execution_count": 51,
      "metadata": {
        "colab": {
          "base_uri": "https://localhost:8080/"
        },
        "id": "SeFCg9bSFvFE",
        "outputId": "1e4139b1-62ed-405f-f163-5017c59608fc"
      },
      "outputs": [
        {
          "name": "stdout",
          "output_type": "stream",
          "text": [
            "NIBRS Classification Report:\n",
            "               precision    recall  f1-score   support\n",
            "\n",
            "       False       0.87      0.32      0.47    467171\n",
            "        True       0.19      0.76      0.30     95805\n",
            "\n",
            "    accuracy                           0.40    562976\n",
            "   macro avg       0.53      0.54      0.39    562976\n",
            "weighted avg       0.75      0.40      0.44    562976\n",
            "\n"
          ]
        }
      ],
      "source": [
        "# Keep the same columns sequences as in the training set\n",
        "X_NIBRS_test = X_NIBRS_test[X_train.columns]\n",
        "\n",
        "y_NIBRS_pred = model.predict(X_NIBRS_test)\n",
        "\n",
        "print(\"NIBRS Classification Report:\\n\", classification_report(y_NIBRS_test, y_NIBRS_pred))\n",
        "\n",
        "report_dict = classification_report(y_NIBRS_test, y_NIBRS_pred, output_dict=True)\n",
        "report_df = pd.DataFrame(report_dict).transpose()\n",
        "\n",
        "# Add to dictionary\n",
        "report_dfs['NIBRS - SGDClassifier'] = report_df\n",
        "\n",
        "# Add model name as column for stacking\n",
        "report_df['model'] = 'NIBRS - SGDClassifier'\n",
        "combined_report_df = pd.concat([combined_report_df, report_df])"
      ]
    },
    {
      "cell_type": "code",
      "execution_count": 52,
      "metadata": {},
      "outputs": [
        {
          "name": "stdout",
          "output_type": "stream",
          "text": [
            "<class 'pandas.core.series.Series'> 562976\n",
            "<class 'pandas.core.series.Series'> 562976\n",
            "Are they completely equal? True\n",
            "Mismatched rows: 0\n"
          ]
        }
      ],
      "source": [
        "# Check where they differ\n",
        "y_true = nibrs_predictions['y_true'].reset_index(drop=True)\n",
        "y_test_reset = y_NIBRS_test.reset_index(drop=True)\n",
        "\n",
        "print(type(y_true), len(y_true))\n",
        "print(type(y_test_reset), len(y_test_reset))\n",
        "\n",
        "diff = y_true != y_test_reset\n",
        "\n",
        "# View mismatches\n",
        "print(\"Are they completely equal?\", (~diff).all())\n",
        "print(\"Mismatched rows:\", diff.sum())\n"
      ]
    },
    {
      "cell_type": "code",
      "execution_count": 53,
      "metadata": {},
      "outputs": [],
      "source": [
        "nibrs_predictions.loc[:, \"LogisticRegression\"] = y_NIBRS_pred"
      ]
    },
    {
      "cell_type": "markdown",
      "metadata": {},
      "source": [
        "### Save Model Prediction Results"
      ]
    },
    {
      "cell_type": "code",
      "execution_count": 54,
      "metadata": {},
      "outputs": [],
      "source": [
        "chicago_predictions.to_csv(\"Evaluation/chicago_predictions.csv\", index=False)\n",
        "nibrs_predictions.to_csv(\"Evaluation/nibrs_predictions.csv\", index=False)\n",
        "combined_report_df.to_csv(\"Evaluation/model_metrics_report.csv\", index=False)"
      ]
    }
  ],
  "metadata": {
    "colab": {
      "provenance": []
    },
    "kernelspec": {
      "display_name": "myenv",
      "language": "python",
      "name": "python3"
    },
    "language_info": {
      "codemirror_mode": {
        "name": "ipython",
        "version": 3
      },
      "file_extension": ".py",
      "mimetype": "text/x-python",
      "name": "python",
      "nbconvert_exporter": "python",
      "pygments_lexer": "ipython3",
      "version": "3.8.20"
    }
  },
  "nbformat": 4,
  "nbformat_minor": 0
}
